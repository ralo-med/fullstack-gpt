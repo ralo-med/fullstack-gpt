{
 "cells": [
  {
   "cell_type": "code",
   "execution_count": null,
   "id": "38b24680",
   "metadata": {},
   "outputs": [
    {
     "name": "stderr",
     "output_type": "stream",
     "text": [
      "ffmpeg version 7.1.1 Copyright (c) 2000-2025 the FFmpeg developers\n",
      "  built with Apple clang version 16.0.0 (clang-1600.0.26.6)\n",
      "  configuration: --prefix=/usr/local/Cellar/ffmpeg/7.1.1_3 --enable-shared --enable-pthreads --enable-version3 --cc=clang --host-cflags= --host-ldflags='-Wl,-ld_classic' --enable-ffplay --enable-gnutls --enable-gpl --enable-libaom --enable-libaribb24 --enable-libbluray --enable-libdav1d --enable-libharfbuzz --enable-libjxl --enable-libmp3lame --enable-libopus --enable-librav1e --enable-librist --enable-librubberband --enable-libsnappy --enable-libsrt --enable-libssh --enable-libsvtav1 --enable-libtesseract --enable-libtheora --enable-libvidstab --enable-libvmaf --enable-libvorbis --enable-libvpx --enable-libwebp --enable-libx264 --enable-libx265 --enable-libxml2 --enable-libxvid --enable-lzma --enable-libfontconfig --enable-libfreetype --enable-frei0r --enable-libass --enable-libopencore-amrnb --enable-libopencore-amrwb --enable-libopenjpeg --enable-libspeex --enable-libsoxr --enable-libzmq --enable-libzimg --disable-libjack --disable-indev=jack --enable-videotoolbox --enable-audiotoolbox\n",
      "  libavutil      59. 39.100 / 59. 39.100\n",
      "  libavcodec     61. 19.101 / 61. 19.101\n",
      "  libavformat    61.  7.100 / 61.  7.100\n",
      "  libavdevice    61.  3.100 / 61.  3.100\n",
      "  libavfilter    10.  4.100 / 10.  4.100\n",
      "  libswscale      8.  3.100 /  8.  3.100\n",
      "  libswresample   5.  3.100 /  5.  3.100\n",
      "  libpostproc    58.  3.100 / 58.  3.100\n",
      "Input #0, mov,mp4,m4a,3gp,3g2,mj2, from 'files/test.mp4':\n",
      "  Metadata:\n",
      "    major_brand     : isom\n",
      "    minor_version   : 512\n",
      "    compatible_brands: isomiso2mp41\n",
      "    encoder         : Lavf61.7.100\n",
      "  Duration: 00:42:09.67, start: 0.000000, bitrate: 1626 kb/s\n",
      "  Stream #0:0[0x1](und): Video: vp9 (Profile 0) (vp09 / 0x39307076), yuv420p(tv, bt709), 1920x1080, 1486 kb/s, 60 fps, 60 tbr, 16k tbn (default)\n",
      "      Metadata:\n",
      "        handler_name    : ISO Media file produced by Google Inc. Created on: 07/14/2025.\n",
      "        vendor_id       : [0][0][0][0]\n",
      "  Stream #0:1[0x2](und): Audio: aac (LC) (mp4a / 0x6134706D), 44100 Hz, stereo, fltp, 127 kb/s (default)\n",
      "      Metadata:\n",
      "        handler_name    : ISO Media file produced by Google Inc.\n",
      "        vendor_id       : [0][0][0][0]\n",
      "Stream mapping:\n",
      "  Stream #0:1 -> #0:0 (aac (native) -> mp3 (libmp3lame))\n",
      "Press [q] to stop, [?] for help\n",
      "Output #0, mp3, to 'files/audio.mp3':\n",
      "  Metadata:\n",
      "    major_brand     : isom\n",
      "    minor_version   : 512\n",
      "    compatible_brands: isomiso2mp41\n",
      "    TSSE            : Lavf61.7.100\n",
      "  Stream #0:0(und): Audio: mp3, 44100 Hz, stereo, fltp (default)\n",
      "      Metadata:\n",
      "        handler_name    : ISO Media file produced by Google Inc.\n",
      "        vendor_id       : [0][0][0][0]\n",
      "        encoder         : Lavc61.19.101 libmp3lame\n",
      "[out#0/mp3 @ 0x7fd9e6207140] video:0KiB audio:39527KiB subtitle:0KiB other streams:0KiB global headers:0KiB muxing overhead: 0.000867%\n",
      "size=   39527KiB time=00:42:09.67 bitrate= 128.0kbits/s speed=  68x    \n"
     ]
    },
    {
     "data": {
      "text/plain": [
       "'files/audio.mp3'"
      ]
     },
     "execution_count": 4,
     "metadata": {},
     "output_type": "execute_result"
    }
   ],
   "source": [
    "import subprocess\n",
    "from pydub import AudioSegment\n",
    "import math\n",
    "import os\n",
    "\n",
    "def extract_audio_from_video(video_path,audio_path):\n",
    "    command=[\"ffmpeg\", \"-i\", video_path, \"-vn\", audio_path]\n",
    "    subprocess.run(command,check=True)\n",
    "    return audio_path\n",
    "\n",
    "def split_audio_into_chunks(audio_path,chunk_size,chunks_folder):\n",
    "    audio = AudioSegment.from_mp3(audio_path)\n",
    "    chunks = math.ceil(len(audio)/chunk_size)\n",
    "    chunk_size = chunk_size*60*1000\n",
    "    if not os.path.exists(chunks_folder):\n",
    "        os.makedirs(chunks_folder)\n",
    "    for i in range(chunks):\n",
    "        chunk = audio[i*chunk_size:(i+1)*chunk_size]\n",
    "        chunk.export(f\"{chunks_folder}/chunk_{i}.mp3\", format=\"mp3\")\n",
    "\n",
    "extract_audio_from_video(\"files/test.mp4\",\"files/audio.mp3\")\n",
    "split_audio_into_chunks(\"files/audio.mp3\",10,\"files/chunks\")"
   ]
  },
  {
   "cell_type": "code",
   "execution_count": null,
   "id": "2201b7a5",
   "metadata": {},
   "outputs": [
    {
     "data": {
      "text/plain": [
       "2529.674739229025"
      ]
     },
     "execution_count": 8,
     "metadata": {},
     "output_type": "execute_result"
    }
   ],
   "source": [
    "from pydub import AudioSegment\n",
    "\n",
    "track = AudioSegment.from_mp3(\"files/audio.mp3\")\n",
    "track.duration_seconds\n",
    "\n",
    "\n"
   ]
  },
  {
   "cell_type": "code",
   "execution_count": 10,
   "id": "81b1749b",
   "metadata": {},
   "outputs": [
    {
     "data": {
      "text/plain": [
       "<_io.BufferedRandom name='files/first_five.mp3'>"
      ]
     },
     "execution_count": 10,
     "metadata": {},
     "output_type": "execute_result"
    }
   ],
   "source": [
    "five_minutes = 5 * 60 * 1000\n",
    "\n",
    "first_five_minutes = track[:five_minutes]\n",
    "\n",
    "first_five_minutes.export(\"files/first_five.mp3\", format=\"mp3\")"
   ]
  },
  {
   "cell_type": "code",
   "execution_count": 13,
   "id": "91d501dc",
   "metadata": {},
   "outputs": [],
   "source": [
    "import math\n",
    "ten_minutes = 10 * 60 * 1000\n",
    "chunks = math.ceil(len(track)/ten_minutes)\n",
    "for i in range(chunks):\n",
    "    chunk = track[i*ten_minutes:(i+1)*ten_minutes]\n",
    "    chunk.export(f\"files/chunks/chunk_{i}.mp3\", format=\"mp3\")"
   ]
  }
 ],
 "metadata": {
  "kernelspec": {
   "display_name": "env",
   "language": "python",
   "name": "python3"
  },
  "language_info": {
   "codemirror_mode": {
    "name": "ipython",
    "version": 3
   },
   "file_extension": ".py",
   "mimetype": "text/x-python",
   "name": "python",
   "nbconvert_exporter": "python",
   "pygments_lexer": "ipython3",
   "version": "3.11.3"
  }
 },
 "nbformat": 4,
 "nbformat_minor": 5
}
