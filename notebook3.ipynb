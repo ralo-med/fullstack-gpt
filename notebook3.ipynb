{
 "cells": [
  {
   "cell_type": "code",
   "execution_count": 1,
   "id": "38b24680",
   "metadata": {},
   "outputs": [
    {
     "name": "stderr",
     "output_type": "stream",
     "text": [
      "ffmpeg version 7.1.1 Copyright (c) 2000-2025 the FFmpeg developers\n",
      "  built with Apple clang version 16.0.0 (clang-1600.0.26.6)\n",
      "  configuration: --prefix=/usr/local/Cellar/ffmpeg/7.1.1_3 --enable-shared --enable-pthreads --enable-version3 --cc=clang --host-cflags= --host-ldflags='-Wl,-ld_classic' --enable-ffplay --enable-gnutls --enable-gpl --enable-libaom --enable-libaribb24 --enable-libbluray --enable-libdav1d --enable-libharfbuzz --enable-libjxl --enable-libmp3lame --enable-libopus --enable-librav1e --enable-librist --enable-librubberband --enable-libsnappy --enable-libsrt --enable-libssh --enable-libsvtav1 --enable-libtesseract --enable-libtheora --enable-libvidstab --enable-libvmaf --enable-libvorbis --enable-libvpx --enable-libwebp --enable-libx264 --enable-libx265 --enable-libxml2 --enable-libxvid --enable-lzma --enable-libfontconfig --enable-libfreetype --enable-frei0r --enable-libass --enable-libopencore-amrnb --enable-libopencore-amrwb --enable-libopenjpeg --enable-libspeex --enable-libsoxr --enable-libzmq --enable-libzimg --disable-libjack --disable-indev=jack --enable-videotoolbox --enable-audiotoolbox\n",
      "  libavutil      59. 39.100 / 59. 39.100\n",
      "  libavcodec     61. 19.101 / 61. 19.101\n",
      "  libavformat    61.  7.100 / 61.  7.100\n",
      "  libavdevice    61.  3.100 / 61.  3.100\n",
      "  libavfilter    10.  4.100 / 10.  4.100\n",
      "  libswscale      8.  3.100 /  8.  3.100\n",
      "  libswresample   5.  3.100 /  5.  3.100\n",
      "  libpostproc    58.  3.100 / 58.  3.100\n",
      "Input #0, mov,mp4,m4a,3gp,3g2,mj2, from 'files/test.mp4':\n",
      "  Metadata:\n",
      "    major_brand     : isom\n",
      "    minor_version   : 512\n",
      "    compatible_brands: isomiso2mp41\n",
      "    encoder         : Lavf61.7.100\n",
      "  Duration: 00:42:09.67, start: 0.000000, bitrate: 1626 kb/s\n",
      "  Stream #0:0[0x1](und): Video: vp9 (Profile 0) (vp09 / 0x39307076), yuv420p(tv, bt709), 1920x1080, 1486 kb/s, 60 fps, 60 tbr, 16k tbn (default)\n",
      "      Metadata:\n",
      "        handler_name    : ISO Media file produced by Google Inc. Created on: 07/14/2025.\n",
      "        vendor_id       : [0][0][0][0]\n",
      "  Stream #0:1[0x2](und): Audio: aac (LC) (mp4a / 0x6134706D), 44100 Hz, stereo, fltp, 127 kb/s (default)\n",
      "      Metadata:\n",
      "        handler_name    : ISO Media file produced by Google Inc.\n",
      "        vendor_id       : [0][0][0][0]\n",
      "File 'files/audio.mp3' already exists. Overwrite? [y/N] "
     ]
    },
    {
     "ename": "KeyboardInterrupt",
     "evalue": "",
     "output_type": "error",
     "traceback": [
      "\u001b[0;31m---------------------------------------------------------------------------\u001b[0m",
      "\u001b[0;31mKeyboardInterrupt\u001b[0m                         Traceback (most recent call last)",
      "Cell \u001b[0;32mIn[1], line 21\u001b[0m\n\u001b[1;32m     18\u001b[0m         chunk \u001b[38;5;241m=\u001b[39m audio[i\u001b[38;5;241m*\u001b[39mchunk_size:(i\u001b[38;5;241m+\u001b[39m\u001b[38;5;241m1\u001b[39m)\u001b[38;5;241m*\u001b[39mchunk_size]\n\u001b[1;32m     19\u001b[0m         chunk\u001b[38;5;241m.\u001b[39mexport(\u001b[38;5;124mf\u001b[39m\u001b[38;5;124m\"\u001b[39m\u001b[38;5;132;01m{\u001b[39;00mchunks_folder\u001b[38;5;132;01m}\u001b[39;00m\u001b[38;5;124m/chunk_\u001b[39m\u001b[38;5;132;01m{\u001b[39;00mi\u001b[38;5;132;01m}\u001b[39;00m\u001b[38;5;124m.mp3\u001b[39m\u001b[38;5;124m\"\u001b[39m, \u001b[38;5;28mformat\u001b[39m\u001b[38;5;241m=\u001b[39m\u001b[38;5;124m\"\u001b[39m\u001b[38;5;124mmp3\u001b[39m\u001b[38;5;124m\"\u001b[39m)\n\u001b[0;32m---> 21\u001b[0m \u001b[43mextract_audio_from_video\u001b[49m\u001b[43m(\u001b[49m\u001b[38;5;124;43m\"\u001b[39;49m\u001b[38;5;124;43mfiles/test.mp4\u001b[39;49m\u001b[38;5;124;43m\"\u001b[39;49m\u001b[43m,\u001b[49m\u001b[38;5;124;43m\"\u001b[39;49m\u001b[38;5;124;43mfiles/audio.mp3\u001b[39;49m\u001b[38;5;124;43m\"\u001b[39;49m\u001b[43m)\u001b[49m\n\u001b[1;32m     22\u001b[0m split_audio_into_chunks(\u001b[38;5;124m\"\u001b[39m\u001b[38;5;124mfiles/audio.mp3\u001b[39m\u001b[38;5;124m\"\u001b[39m,\u001b[38;5;241m10\u001b[39m,\u001b[38;5;124m\"\u001b[39m\u001b[38;5;124mfiles/chunks\u001b[39m\u001b[38;5;124m\"\u001b[39m)\n",
      "Cell \u001b[0;32mIn[1], line 8\u001b[0m, in \u001b[0;36mextract_audio_from_video\u001b[0;34m(video_path, audio_path)\u001b[0m\n\u001b[1;32m      6\u001b[0m \u001b[38;5;28;01mdef\u001b[39;00m \u001b[38;5;21mextract_audio_from_video\u001b[39m(video_path,audio_path):\n\u001b[1;32m      7\u001b[0m     command\u001b[38;5;241m=\u001b[39m[\u001b[38;5;124m\"\u001b[39m\u001b[38;5;124mffmpeg\u001b[39m\u001b[38;5;124m\"\u001b[39m, \u001b[38;5;124m\"\u001b[39m\u001b[38;5;124m-i\u001b[39m\u001b[38;5;124m\"\u001b[39m, video_path, \u001b[38;5;124m\"\u001b[39m\u001b[38;5;124m-vn\u001b[39m\u001b[38;5;124m\"\u001b[39m, audio_path]\n\u001b[0;32m----> 8\u001b[0m     \u001b[43msubprocess\u001b[49m\u001b[38;5;241;43m.\u001b[39;49m\u001b[43mrun\u001b[49m\u001b[43m(\u001b[49m\u001b[43mcommand\u001b[49m\u001b[43m,\u001b[49m\u001b[43mcheck\u001b[49m\u001b[38;5;241;43m=\u001b[39;49m\u001b[38;5;28;43;01mTrue\u001b[39;49;00m\u001b[43m)\u001b[49m\n\u001b[1;32m      9\u001b[0m     \u001b[38;5;28;01mreturn\u001b[39;00m audio_path\n",
      "File \u001b[0;32m/Library/Frameworks/Python.framework/Versions/3.11/lib/python3.11/subprocess.py:550\u001b[0m, in \u001b[0;36mrun\u001b[0;34m(input, capture_output, timeout, check, *popenargs, **kwargs)\u001b[0m\n\u001b[1;32m    548\u001b[0m \u001b[38;5;28;01mwith\u001b[39;00m Popen(\u001b[38;5;241m*\u001b[39mpopenargs, \u001b[38;5;241m*\u001b[39m\u001b[38;5;241m*\u001b[39mkwargs) \u001b[38;5;28;01mas\u001b[39;00m process:\n\u001b[1;32m    549\u001b[0m     \u001b[38;5;28;01mtry\u001b[39;00m:\n\u001b[0;32m--> 550\u001b[0m         stdout, stderr \u001b[38;5;241m=\u001b[39m \u001b[43mprocess\u001b[49m\u001b[38;5;241;43m.\u001b[39;49m\u001b[43mcommunicate\u001b[49m\u001b[43m(\u001b[49m\u001b[38;5;28;43minput\u001b[39;49m\u001b[43m,\u001b[49m\u001b[43m \u001b[49m\u001b[43mtimeout\u001b[49m\u001b[38;5;241;43m=\u001b[39;49m\u001b[43mtimeout\u001b[49m\u001b[43m)\u001b[49m\n\u001b[1;32m    551\u001b[0m     \u001b[38;5;28;01mexcept\u001b[39;00m TimeoutExpired \u001b[38;5;28;01mas\u001b[39;00m exc:\n\u001b[1;32m    552\u001b[0m         process\u001b[38;5;241m.\u001b[39mkill()\n",
      "File \u001b[0;32m/Library/Frameworks/Python.framework/Versions/3.11/lib/python3.11/subprocess.py:1199\u001b[0m, in \u001b[0;36mPopen.communicate\u001b[0;34m(self, input, timeout)\u001b[0m\n\u001b[1;32m   1197\u001b[0m         stderr \u001b[38;5;241m=\u001b[39m \u001b[38;5;28mself\u001b[39m\u001b[38;5;241m.\u001b[39mstderr\u001b[38;5;241m.\u001b[39mread()\n\u001b[1;32m   1198\u001b[0m         \u001b[38;5;28mself\u001b[39m\u001b[38;5;241m.\u001b[39mstderr\u001b[38;5;241m.\u001b[39mclose()\n\u001b[0;32m-> 1199\u001b[0m     \u001b[38;5;28;43mself\u001b[39;49m\u001b[38;5;241;43m.\u001b[39;49m\u001b[43mwait\u001b[49m\u001b[43m(\u001b[49m\u001b[43m)\u001b[49m\n\u001b[1;32m   1200\u001b[0m \u001b[38;5;28;01melse\u001b[39;00m:\n\u001b[1;32m   1201\u001b[0m     \u001b[38;5;28;01mif\u001b[39;00m timeout \u001b[38;5;129;01mis\u001b[39;00m \u001b[38;5;129;01mnot\u001b[39;00m \u001b[38;5;28;01mNone\u001b[39;00m:\n",
      "File \u001b[0;32m/Library/Frameworks/Python.framework/Versions/3.11/lib/python3.11/subprocess.py:1262\u001b[0m, in \u001b[0;36mPopen.wait\u001b[0;34m(self, timeout)\u001b[0m\n\u001b[1;32m   1260\u001b[0m     endtime \u001b[38;5;241m=\u001b[39m _time() \u001b[38;5;241m+\u001b[39m timeout\n\u001b[1;32m   1261\u001b[0m \u001b[38;5;28;01mtry\u001b[39;00m:\n\u001b[0;32m-> 1262\u001b[0m     \u001b[38;5;28;01mreturn\u001b[39;00m \u001b[38;5;28;43mself\u001b[39;49m\u001b[38;5;241;43m.\u001b[39;49m\u001b[43m_wait\u001b[49m\u001b[43m(\u001b[49m\u001b[43mtimeout\u001b[49m\u001b[38;5;241;43m=\u001b[39;49m\u001b[43mtimeout\u001b[49m\u001b[43m)\u001b[49m\n\u001b[1;32m   1263\u001b[0m \u001b[38;5;28;01mexcept\u001b[39;00m \u001b[38;5;167;01mKeyboardInterrupt\u001b[39;00m:\n\u001b[1;32m   1264\u001b[0m     \u001b[38;5;66;03m# https://bugs.python.org/issue25942\u001b[39;00m\n\u001b[1;32m   1265\u001b[0m     \u001b[38;5;66;03m# The first keyboard interrupt waits briefly for the child to\u001b[39;00m\n\u001b[1;32m   1266\u001b[0m     \u001b[38;5;66;03m# exit under the common assumption that it also received the ^C\u001b[39;00m\n\u001b[1;32m   1267\u001b[0m     \u001b[38;5;66;03m# generated SIGINT and will exit rapidly.\u001b[39;00m\n\u001b[1;32m   1268\u001b[0m     \u001b[38;5;28;01mif\u001b[39;00m timeout \u001b[38;5;129;01mis\u001b[39;00m \u001b[38;5;129;01mnot\u001b[39;00m \u001b[38;5;28;01mNone\u001b[39;00m:\n",
      "File \u001b[0;32m/Library/Frameworks/Python.framework/Versions/3.11/lib/python3.11/subprocess.py:2013\u001b[0m, in \u001b[0;36mPopen._wait\u001b[0;34m(self, timeout)\u001b[0m\n\u001b[1;32m   2011\u001b[0m \u001b[38;5;28;01mif\u001b[39;00m \u001b[38;5;28mself\u001b[39m\u001b[38;5;241m.\u001b[39mreturncode \u001b[38;5;129;01mis\u001b[39;00m \u001b[38;5;129;01mnot\u001b[39;00m \u001b[38;5;28;01mNone\u001b[39;00m:\n\u001b[1;32m   2012\u001b[0m     \u001b[38;5;28;01mbreak\u001b[39;00m  \u001b[38;5;66;03m# Another thread waited.\u001b[39;00m\n\u001b[0;32m-> 2013\u001b[0m (pid, sts) \u001b[38;5;241m=\u001b[39m \u001b[38;5;28;43mself\u001b[39;49m\u001b[38;5;241;43m.\u001b[39;49m\u001b[43m_try_wait\u001b[49m\u001b[43m(\u001b[49m\u001b[38;5;241;43m0\u001b[39;49m\u001b[43m)\u001b[49m\n\u001b[1;32m   2014\u001b[0m \u001b[38;5;66;03m# Check the pid and loop as waitpid has been known to\u001b[39;00m\n\u001b[1;32m   2015\u001b[0m \u001b[38;5;66;03m# return 0 even without WNOHANG in odd situations.\u001b[39;00m\n\u001b[1;32m   2016\u001b[0m \u001b[38;5;66;03m# http://bugs.python.org/issue14396.\u001b[39;00m\n\u001b[1;32m   2017\u001b[0m \u001b[38;5;28;01mif\u001b[39;00m pid \u001b[38;5;241m==\u001b[39m \u001b[38;5;28mself\u001b[39m\u001b[38;5;241m.\u001b[39mpid:\n",
      "File \u001b[0;32m/Library/Frameworks/Python.framework/Versions/3.11/lib/python3.11/subprocess.py:1971\u001b[0m, in \u001b[0;36mPopen._try_wait\u001b[0;34m(self, wait_flags)\u001b[0m\n\u001b[1;32m   1969\u001b[0m \u001b[38;5;250m\u001b[39m\u001b[38;5;124;03m\"\"\"All callers to this function MUST hold self._waitpid_lock.\"\"\"\u001b[39;00m\n\u001b[1;32m   1970\u001b[0m \u001b[38;5;28;01mtry\u001b[39;00m:\n\u001b[0;32m-> 1971\u001b[0m     (pid, sts) \u001b[38;5;241m=\u001b[39m \u001b[43mos\u001b[49m\u001b[38;5;241;43m.\u001b[39;49m\u001b[43mwaitpid\u001b[49m\u001b[43m(\u001b[49m\u001b[38;5;28;43mself\u001b[39;49m\u001b[38;5;241;43m.\u001b[39;49m\u001b[43mpid\u001b[49m\u001b[43m,\u001b[49m\u001b[43m \u001b[49m\u001b[43mwait_flags\u001b[49m\u001b[43m)\u001b[49m\n\u001b[1;32m   1972\u001b[0m \u001b[38;5;28;01mexcept\u001b[39;00m \u001b[38;5;167;01mChildProcessError\u001b[39;00m:\n\u001b[1;32m   1973\u001b[0m     \u001b[38;5;66;03m# This happens if SIGCLD is set to be ignored or waiting\u001b[39;00m\n\u001b[1;32m   1974\u001b[0m     \u001b[38;5;66;03m# for child processes has otherwise been disabled for our\u001b[39;00m\n\u001b[1;32m   1975\u001b[0m     \u001b[38;5;66;03m# process.  This child is dead, we can't get the status.\u001b[39;00m\n\u001b[1;32m   1976\u001b[0m     pid \u001b[38;5;241m=\u001b[39m \u001b[38;5;28mself\u001b[39m\u001b[38;5;241m.\u001b[39mpid\n",
      "\u001b[0;31mKeyboardInterrupt\u001b[0m: "
     ]
    }
   ],
   "source": [
    "import subprocess\n",
    "from pydub import AudioSegment\n",
    "import math\n",
    "import os\n",
    "\n",
    "def extract_audio_from_video(video_path,audio_path):\n",
    "    command=[\"ffmpeg\", \"-i\", video_path, \"-vn\", audio_path]\n",
    "    subprocess.run(command,check=True)\n",
    "    return audio_path\n",
    "\n",
    "def split_audio_into_chunks(audio_path,chunk_size,chunks_folder):\n",
    "    audio = AudioSegment.from_mp3(audio_path)\n",
    "    chunks = math.ceil(len(audio)/chunk_size)\n",
    "    chunk_size = chunk_size*60*1000\n",
    "    if not os.path.exists(chunks_folder):\n",
    "        os.makedirs(chunks_folder)\n",
    "    for i in range(chunks):\n",
    "        chunk = audio[i*chunk_size:(i+1)*chunk_size]\n",
    "        chunk.export(f\"{chunks_folder}/chunk_{i}.mp3\", format=\"mp3\")\n",
    "\n",
    "extract_audio_from_video(\"files/test.mp4\",\"files/audio.mp3\")\n",
    "split_audio_into_chunks(\"files/audio.mp3\",10,\"files/chunks\")"
   ]
  },
  {
   "cell_type": "code",
   "execution_count": null,
   "id": "af1bfe1c",
   "metadata": {},
   "outputs": [],
   "source": []
  },
  {
   "cell_type": "code",
   "execution_count": null,
   "id": "2201b7a5",
   "metadata": {},
   "outputs": [
    {
     "data": {
      "text/plain": [
       "2529.674739229025"
      ]
     },
     "execution_count": 8,
     "metadata": {},
     "output_type": "execute_result"
    }
   ],
   "source": [
    "from pydub import AudioSegment\n",
    "\n",
    "track = AudioSegment.from_mp3(\"files/audio.mp3\")\n",
    "track.duration_seconds\n",
    "\n",
    "\n"
   ]
  },
  {
   "cell_type": "code",
   "execution_count": 10,
   "id": "81b1749b",
   "metadata": {},
   "outputs": [
    {
     "data": {
      "text/plain": [
       "<_io.BufferedRandom name='files/first_five.mp3'>"
      ]
     },
     "execution_count": 10,
     "metadata": {},
     "output_type": "execute_result"
    }
   ],
   "source": [
    "five_minutes = 5 * 60 * 1000\n",
    "\n",
    "first_five_minutes = track[:five_minutes]\n",
    "\n",
    "first_five_minutes.export(\"files/first_five.mp3\", format=\"mp3\")"
   ]
  },
  {
   "cell_type": "code",
   "execution_count": 13,
   "id": "91d501dc",
   "metadata": {},
   "outputs": [],
   "source": [
    "import math\n",
    "ten_minutes = 10 * 60 * 1000\n",
    "chunks = math.ceil(len(track)/ten_minutes)\n",
    "for i in range(chunks):\n",
    "    chunk = track[i*ten_minutes:(i+1)*ten_minutes]\n",
    "    chunk.export(f\"files/chunks/chunk_{i}.mp3\", format=\"mp3\")"
   ]
  },
  {
   "cell_type": "code",
   "execution_count": 4,
   "id": "a7fd9bee",
   "metadata": {},
   "outputs": [
    {
     "data": {
      "text/plain": [
       "'여러분 안녕하세요 노태우입니다. 입주가 벌써 지났고요. 더위가 물러난다는 처서가 내일 입니다. 그런데도 아직까지 더위는 기승 을 바라고 있습니다. 여러분들도 다 아시다시피 차가운 겨울 날씨가 심장 환자한테 굉장히 불리하다는 것은 아실 거예요. 이미 잘 알고 계실 텐데 사실은 무더운 여름 날씨도 똑같이 심장 환자한테는 불리합니다. 그래서 오늘 말씀드리고자 하는 것은 심장 환자가 건강하게 여름 을 지내기 위해서 어떠한 것들을 조심해야 되는가 이런 걸 몇 가지 좀 정리해서 말씀드릴까 합니다. 올해가 2022년인데 지금 보시는 도표는 2000년간 지구 온도를 보여주는 그림입니다. 실제 정확한 온도 측정이 됐던 것은 1880년이라고 그러네요. 그런데 이제 그 전의 온도는 사실은 과학자들이 추정했던 온도고요 . 그런데 이 도표 한번 보시게 되면요 . 쭉 변화가 없었어요. 2000년 동안 온도가 별 변화가 없었어요 . 그러다 이제 2000년이 되면서부터 갑자기 기온이 상승하는 모습을 볼 수 있고 현재는 인류 역사상 가장 뜨거워진 지구라고 생각되는 그러한 모습입니다. 지금 보시는 도표는 50년 전을 기준으로 했을 때 50년 전을 기준으로 했을 때 최근 10년 사이에 지구 온도 상승 을 보여주는 그림이에요. 그래서 짙게 색깔이 나오는 부분 또 좀 옅게 색깔이 나오는 부분이 50년 전에 비해가지고 기온이 얼마나 상승되어 있는가를 보는데 색깔이 짙을수록 기온 상승이 심한 겁니다. 제일 보시게 되면 지구의 북쪽이 이제 한 4도 정도가 50년 전에 비해 가지고 온도가 올라갔다고 합니다. 지구의 북반부 특히 북극 지역이 굉장히 온도가 굉장히 치솟은 걸 알 수 있어요. 그 결과 북극 쪽에서는 고음이 어디 갈 데가 없어진 겁니다. 그런데 이 더위가 북극 고음만 위협 하는 건 아닙니다. 사람한테는 얼마나 위험할까 이런 연구를 한 아주 흥미로운 연구가 있었어요. 그것도 어디서 했냐면 지구상에서 가장 더운 지역 쿠웨이트에서 연구 를 한 게 있었어요. 이걸 간략하게 소개해드릴까 합니다. 쿠웨이트라는 나라는 저도 가본 적은 없지만 굉장히 더운 나라인가 봐요. 지금 보시는 그림은 제가 어제 캡쳐 한 그림이에요. 일요일 오전 5시에 캡쳐했는데 그때 기온이 36도예요. 대개 낮의 기온은 46도 45도 이렇게 된다고 합니다. 새벽 5시에 온도가 36도니까 사실 말하기 어려울 정도의 더위죠. 그래서 이 아주 더운 쿠웨이트라는 나라에서 더위하고 심혈관 사망과 의 관계를 연구해본 게 있었어요 . 그런데 나라가 워낙 덥기 때문에 기준점을 언제 잡았냐면 34.7도 시였어요. 그러니까 35도가 기준 온도입니다. 우리 상상하기 참 어려운데 이 35도 정도를 기준으로 했을 때 43.7도 그러니까 44도 정도의 온도가 올라 가니까 심혈관 사망률이 3배 정도 올라가 되는 거죠. 그래서 이걸 보면 이게 연구 논문 으로 확인이 된 거예요. 이걸 보게 되면 아무리 더운 나라에서 더위에 익숙한 사람들을 하더라도 그거보다 더 더위가 오게 되면 견디지 못한다는 걸 알 수 있었던 거죠. 그렇다면 이 더위가 아주 더운 나라 에 사는 분들한테만 그렇게 위협 적인가 하고 봤더니 꼭 그렇지 않았어요. 여기 보이는 도표는 미국 시카고에서 벌어진 일을 보여드리는 그림입니다. 시카고라는 동네는 미국에서도 상당히 북쪽에 위치하고 있고 추위로 사실은 유명한 동네에요. 우리나라보다 훨씬 더 춥습니다. 그런데 1995년도에 6. 7월 중 기온 6. 7월에 아주 대단한 일이 생긴 게 있었다 그래요. 이게 뭐냐면 대개 6. 7월에 평균 기온이 한 24도 정도 됐다고 합니다. 우리보다는 훨씬 서늘하죠. 그런데 1995년 7월 중순경에 갑자기 기온이 37.7도까지 올라갔었대요. 그러니까 그러면서 나중에 기록 이 남은 거죠. 쭉 사망하는 심혈관 사망자들 갖다 쭉 분석을 해보니까 그전까지는 하루에 평균 한 200명 정도가 사망 을 했었다고 해요. 그런데 7월 11일에서 27일 사이에 심혈관 사망자 수가 500명으로 증가 했어요. 그래서 이런 걸 보면 쿠웨이트 처럼 더운 나라든 아니면 그렇지 않은 나라라 하더라도 상대적으로 기온 이 갑자기 올라가게 되면 심혈관 질환으로 인한 사망이 급격하게 증가 된다는 걸 알 수 있었어요. 심장의 더위 자체가 상당한 위협 이 되고 있다는 걸 우리가 실증 적으로 알 수 있습니다. 더위에 접하게 되면 우리 몸이 어떠한 반응을 보이는가 하면요. 체온이 올라가죠. 체온이 올라가게 되면 사실은 중요한 우리 몸에 있는 내부장기들이죠. 내부장기들이 손상을 입게 됩니다. 열로 인해서. 그래서 그 손상을 덜 입게 하기 위해서 열을 방출시켜야 돼요. 열을 방출시키는 방법이 몇 가지 방법이 되지 않아요. 우리 이제 개들 보게 되면 혀를 덮게 되면 혀를 내밀고서는 큰 숨을 내쉬잖아요. 혀를 통해가지고 증발을 시키고 혀를 통해가지고 체온을 밖으로 내보내는 건데 사람인 경우에는 어떤 방법을 동원하냐면요. 몸의 내본도가 올라가게 되면은 내부로 가는 혈액의 양을 줄이고 그 대신 피부로 피를 많이 보내버려요. 이게 열을 발산하는 방법 중에 방열 입니다. 방열. 그래서 피부 쪽으로 혈액순환을 늘려버리는 거죠. 더워진 혈액이 피부를 통해서 자꾸 발산을 할 수 있도록 하는 거예요. 장기로 가는 혈액은 줄이고 피부로 가는 혈액의 양은 늘려버리는 혈액 제 분비가 일어나는 것이고요. 그 다음이 기화입니다. 땀을 흘려가지고 땀을 내가지고 땀이 증발되면서 열을 뺏어가니까 그걸 위해서 열을 방출시키는데 이게 습도가 높게 되면 우리나라 이제 장마철 되고 여름에 굉장히 무덥잖아요. 그러면서 외부 습도가 올라가게 되면은 땀이 잘 증발을 잘 못하는 거예요. 그러니까 피부가 축축해지지 않습니까 이게 증발이 잘 안되는 거예요. 증발이 안되니까 열의 발산이 훨씬 덜한 겁니다. 그래서 한 연구를 해보면은 날씨가 덥고 아주 습하게 되면은 심장이 그 열을 방출하기 위해서 평상시보다 혈액 방출량이 2배 4배 늘어난다는 거예요. 열을 방출해야 되니까 몸으로 있는 중요기관으로 가는 혈액의 양은 줄이고 피부로 혈액을 재 분배를 시키면서 빨리 순환을 시켜야지만 열을 방출시키니까 심장이 일을 훨씬 더 많이 해야 되는 거죠. 심장이 일을 많이 하게 되면 꼭 무리가 생깁니다. 특히 심장질환이 있는 분들은 심장의 일을 가능한 한 줄여줘야 돼요. 심장을 편안하게 만들어줘야 되는데 일을 많이 하게 된 게 그것도 지금 보시는 것처럼 혈액 방출량이 2배 4배가 된다고 하니까 심장이 얼마나 큰 무리가 가겠습니까. 그래서 이렇게 고온에 접하게 되면은 말씀드린 대로 체온을 줄이기 위해서 열을 발산시켜야 되고 피부로 가는 혈액의 양을 늘리면서 심장의 부담 이 더 커진다고 말씀드렸죠. 그런데 그것뿐만이 아니라 실제 고온에 접하게 되면은 온몸에 염증 반응이 증가된다고 해요. 그래서 염증 반응이 생기면서 혈관 뇌피세포가 손상이 오고 또 그것 뿐만 아니라 고온 자체가 세포의 독성 작용을 가지고 있다고 합니다. 이런 여러 가지가 심혈관 질환을 악화시킬 수밖에 없는 그러한 조건 이 되는 겁니다. 아마 이제 심혈관 질환 뿐만 아니라 고온이 지속되게 되면 거기에 직접 노출이 되면은 우리 꼭 심장 질환 이 있는 분들은 말할 나위도 없지만 그렇지 않은 분들한테도 온혈 질환 이라는 게 상당한 위협으로 등장 하게 되죠. 온혈 질환이라는 것은 옛날에 일사병 이렇게 불렀던 병입니다. 일사병 열사병.\\n\\n병하고 열사병이 약간 다른 거예요 지금은 이제 온열 질환이라고 해서 통증을 하게 되고 온열 질환 안에 보게 되면 이렇게 이제 뭐 일사병 한번 보실까요 그림 보시게 되면요 일사병 또 뭡니까 열 탈진 뭐 이렇게 이름이 보시게 되면은 열사병 열 탈진 열 경련 열 실신 열 부정 이렇게 이름을 여러가지 붙였는데 실제로 우리가 많이 알고 있는 것은 열 탈진하고 열사병이에요. 열 탈진은 일사병 이라고 하는 거고요. 열사병 이라는건 훨씬 더 심한 그러한 상황을 얘기하고 있어요 그런데 이러한 온열 질환의 발생이 8월 달에 가장 많이 발생해요. 통계를 보시게 되면은 지금 우리가 이제 8월에 막바지에 돌아가려고 하는데 사실은 아직까지 장마가 지속되면서 그래도 조금 덜 했는데 장마가 마무리 되면서 진짜 치솟지 않습니까 기온이 치솟으면서 진짜 상당한 더위에 노출될 수 밖에 없는데 지금 8월 가장 많이 발생한다고 되어 있고요 그 다음에 연세가 드신 분들한테 훨씬 더 많이 발생해요. 60대 70대 연세가 올라가면서 온열 질환에 대한 발생이 훨씬 더 많아집니다 그래서 이런 온열 질환을 겪게 되면은 이런 응급조치를 해야 되는데 응급조치 이렇게 심각하게 생각할 필요는 없어요 열에 무회부에서 일을 하든 어쨌든 하여튼 온열 질환에 의심 간다 라고 생각되면은 우선 환자 상태를 보는 겁니다. 봐서 이분이 깨웠을 때 의식이 명료한지 아니면 의식이 희미해지는지 이 두 가지가 가장 중요한 분기점이 돼요. 그래서 만일 의식이 희미해지고 의식이 없거나 아니면 희미해지는 상황이다 하면은 그때는 주변에서 도와줄 수 있는 건 없어요. 이때는 무조건 구급대를 119를 불러야 됩니다. 119를 부르고 119가 도착하기까지 이 온열 질환 희생자를 그늘로 옮기고 시원한 데 옮기고 또 바람을 불어주고 그 다음에 체온을 좀 낮춰주기 위해서 옷을 좀 풀어주고 물 마사지를 해주면 되는지 이런 식의 도움을 주는 수밖에 없어요. 119를 부르는 게 가장 중요한 겁니다 근데 이제 혹시 좀 차가운 물을 좀 먹이는 게 좋지 않을까 해가지고 물을 따라서 주는 건 굉장히 위험할 수 있어요. 의식이 없을 때는 목적의 반응, 반사 반응이 떨어져 있기 때문에 잘못하면 물이 기도로 들어가서 폐렴을 만들 수 있기 때문에 절대 의식이 없을 때에는 물을 경고를 줘서는 안 됩니다. 그 다음에 의식이 있는 경우에는 그건 가능해요. 의식이 있을 때는 똑같은 조치를 하는 거죠. 희생자를 그늘 쪽으로 움직이고 옷 풀어주고 차가운 물 마사지 해주고 그 다음에 물도 좀 마실 수 있고요. 이게 이제 일반적으로 그런 상태에서 회복이 되는데 만일 회복이 좀 더디거나 조금 심해지는 경향이 있으면 즉각 연락을 해야 됩니다. 일사병과 열사병의 차이가 굉장히 큰 게 있는데 열사병은 일사병 그러니까 열 탈진까지만 되게 되면 그때는 실제 몸이 뜨거워요. 기력은 없더라도 몸이 뜨거운데 열사병에 들어가는 순간부터는 뜨겁기는 하지만 땀이 나질 않아요. 이거는 뇌에서 이제 열을, 우리 체온을 조절하는 중추가 있는데 그 중추가 마비가 되기 시작하는 그러한 아주 심각한 상황인데 응급조치를 해야 되는 필요가 있는 거죠. 그래서 이런 원혈질환을 예방하기 위한 방침은 이런 것들이 있습니다. 우선 일기예보를 계속 집중해서 봐야 돼요. 오늘의 날씨가 어떨지 그래서 요즘은 그 기상청이나 이런 데서 이제 경고를 주지 않습니까. 원혈질환 발생 위험성이 높으니까 특히 조심해라 하게 되면 일기예보를 꼭 집중해서 보셔야 되고 그 다음에 외부에 있을 때는 물을 충분하게 마셔야 됩니다. 전문가들이 권고하는 것은 20분 간격으로 200cc의 물을 마시라고 되어 있어요. 200cc라고 하면 되게 작은 우유팩 하나 정도거든요. 근데 이 조건이 뭐냐면은 목이 마르지 않아도 저렇게 물을 마시도록 해라 하는 겁니다. 목이 마르면 당연히 물을 차는데 목이 마르지 않더라도 20분 간격으로 200cc 그러니까 1시간이면은 한 600-700cc의 물을 꼭 마시게 해라 하는 것이고요. 외출을 자제하는 것은 틀림없고 가능한 그늘에 들어가 있는 게 중요하고요. 탄산음료, 술은 좋지 않습니다. 의외로 탈수가 더 돼요. 또 술을 마시게 되면은 뇌의 기능도 떨어지기 때문에 심각한 상황을 인지하는 데도 좀 어려움이 있기 때문에 조심해야 되고 햇빛 차단하고 피부 보호하는 것이 중요하고요. 그래서 가장 심각하고 급한 문제는 온열 질환입니다. 여름에 심장 질환자들이 겪을 수 있는 위험 중에서 가장 큰 게 온열 질환이고요. 두번째 말씀드리고 싶은 것은 수면장애에요. 사실 날씨가 후덕지근하니까 쉽게 잠들기 참 어렵습니다. 이런 현상이 여름에 아주 심한데 그럼 이렇게 잠 못 자는 게 그냥 잠만 못 자고 피곤한 것만 아니겠느냐 생각할 수 있는데 그렇지 않습니다. 실제 심장에 상당한 영향을 미치고 이게 이제 어떠한 영향을 미치는가 한번 살펴보겠습니다. 낮에는 이제 일반 일상적인 생활하면서 굉장히 스트레스 많이 받지 않습니까. 업무 때문에 또 대인관계에서 이런저런 스트레스 굉장히 많이 받죠. 그러면서 이제 몸의 자유신경 중에서 교감신경이, 교감신경이라는 것은 쉽게 말씀드리면 싸우는 신경이에요. 비상상황에서 어떠한 비상상황에 내가 금방 대처할 수 있도록 몸을 준비된 상태를 가지고 있는 것, 전투 준비태세가 바로 교감신경입니다. 이렇게 몸이 평평한 긴장상태로 있다가 이제 퇴근하고 집에 들어와서 수면을 준비할 때는 몸이 푹 안정되는 거죠. 이때는 교감신경이 아니라 부교감신경이라는 게 올라가요. 이 부교감신경이 올라가게 되면 어떤 일이 생기냐면 우선 심장이 천천히 뜁니다. 훨씬 더 천천히 뛰고 또 혈압도 떨어져요. 낮시간에 혈압이 올라가 있지만 우리가 집에 들어와서 편안하고 더우나 잘 때는 혈압이 더 떨어집니다. 어느정도 떨어지냐면 잠들게 되면 평상시 혈압보다 한 10 내지 20% 정도 혈압이 떨어져요. 이게 정상적입니다. 누구나 다 그렇습니다. 그래서 이 그림 보시게 되면 이런 식의 그림이 돼요. 여기 보시게 되면은 이게 주간의 혈압이에요. 위의 혈압, 아래의 혈압인데 주간의 혈압이 120, 130 아니면 160 이렇게 올라갔다 내려갔다 하다가 잠들기 시작하면서 혈압이 뚝 떨어집니다. 한 20% 정도 혈압이 떨어지다가 잠에서 깨는 순간부터 다시 혈압이 올라가요. 전투준비하는 거죠. 이게 정상적인 경우에요. 수면 중에는 혈압도 쉬게 됩니다. 그런데 이런 수면 장애가 있게 되면은 수면 장애가 있거나 아니면 고혈압 환자 중에서 어떤 사람들은 밤에 혈압이 떨어지지 않는 사람들이 있어요. 여기 보시게 되면요. 이게 이제 주간 혈압 이거든요. 야간이 가면서 약간 떨어지는 듯 하더니 외려? 이게 이제 잠드는 시간인데 잠든 시간에 혈압이 좀 더 올라가요. 최소한 떨어지질 않아요. 주간, 야간인데 수면 중에는 혈압이 더 떨어져야 돼요. 안정하면서 부교감신경이 올라가면서 심장이 안정상태에 들어가면서 맥박수도 떨어지고 혈압도 떨어져야 되는데 외려? 어떤 경우에는 혈압이 떨어지지 않고 더 올라가는 수가 있다는 거죠. 이게 참 좋지 않은 거에요. 그러니까 똑같은 주간 혈압이 동일하다 하더라도 야간에 혈압이 떨어지느냐 안 떨어지느냐 굉장히 차이가 큽니다. 그런데 수면 장애가 있게 되면은 잠이 드는 순간부터 부교감신경이 올라간다고 했죠. 심박수가 떨어지고 수면 중 혈압 감소가 10 내지 20% 떨어져야 되는 게 정상인데 수면 장애가 있다면 혈압이 떨어지지 않아요. 혈압이 잘 떨어지지 않거나 외려 올라갑니다. 그래서 수면 중에 혈압 감소가 5% 미만, 대개 10 내지 20%가 떨어져야지 정상인데 그것보다 잘 떨어지지 않는 경우 아니면 외려 올라가는 경우에는 심혈관계 합병증이 20% 이상 올라간다고 돼 있어요. 그래서 수면 장애가 있으면 이런 일이 생기고요. 또 수면 장애 없는 분에서도 고혈압으로 약을 복용하거나 치료하는 분들 중에서도 야간 혈압, 수면 중 혈압이 충분히 떨어지지 않는 분들은 예후가 더 좋지 않아요. 그래서 이런 경우에는 약을 좀 조절해야 되요. 약을 복용하는 시간을 조정하거나 이런 약을 조정하거나 해가지고 야간에도 혈압이 좀 더 떨어질 수 있도록 조절하는 게 필요한 겁니다. 어쨌든 오늘 말 드리는 말씀은 수면 장애가 있으면은 야간에 혈압이 잘 떨어지지 않는다. 이거는 심혈관계 합병증을 훨씬 더 올릴 수 있다 하는 걸 갖다 할 수 있는 겁니다. 그 다음에 수면 장애가 있게 되면은 그 다음에 또 심각한 문제가 발생하는 게 뭐냐면은 인슐린 저항성이 문제가 돼요. 인슐린이 이제 몸에 있는 당을 온 몸으로 보관시키면서 혈당을 떨어뜨리는 역할을 하잖아요. 근데 인슐린이 똑같더라도 잘 작용을 못하는 거죠. 작용을 못하니까 혈당이 자꾸 올라가는 거예요. 거기다 또 렙틴이라고 하는 홀몬이 감소해요. 렙틴이라는 홀몬은 식욕을 억제하는 홀몬인데 이게 잘 떨어지게 되니까 식욕은 자꾸 올라가고\\n'"
      ]
     },
     "execution_count": 4,
     "metadata": {},
     "output_type": "execute_result"
    }
   ],
   "source": [
    "from openai import OpenAI          # openai‑python ≥ 1.0.0\n",
    "import glob, os\n",
    "\n",
    "client = OpenAI()                  # OPENAI_API_KEY 환경변수 필요\n",
    "\n",
    "def transcribe_chunks(chunk_folder: str, destination_folder: str) -> str:\n",
    "    # 1) mp3 파일 목록을 정렬(숫자순)해서 가져오기 ------------------------------\n",
    "    files = sorted(\n",
    "        glob.glob(f\"{chunk_folder}/*.mp3\"),\n",
    "        key=lambda p: int(os.path.splitext(os.path.basename(p))[0].split('_')[-1])\n",
    "    )\n",
    "\n",
    "    # 2) 각 chunk 전사 --------------------------------------------------------\n",
    "    transcript_parts = []\n",
    "    for path in files:\n",
    "        with open(path, \"rb\") as f:\n",
    "            text = client.audio.transcriptions.create(\n",
    "                model=\"whisper-1\",\n",
    "                file=f,\n",
    "                language=\"ko\",        # 한국어\n",
    "                response_format=\"text\"  # 순수 문자열\n",
    "            )\n",
    "            transcript_parts.append(text)  # 그대로 문자열이므로 바로 추가\n",
    "\n",
    "    final_text = \"\\n\".join(transcript_parts)\n",
    "\n",
    "    # 3) 출력 폴더 준비 후 저장 -----------------------------------------------\n",
    "    os.makedirs(destination_folder, exist_ok=True)\n",
    "    out_path = os.path.join(destination_folder, \"transcript.txt\")\n",
    "    with open(out_path, \"w\", encoding=\"utf-8\") as out:\n",
    "        out.write(final_text)\n",
    "\n",
    "    return final_text\n",
    "\n",
    "\n",
    "# 실행 예시\n",
    "transcribe_chunks(\"./files/chunks\", \"./files/transcripts\")\n"
   ]
  }
 ],
 "metadata": {
  "kernelspec": {
   "display_name": "env",
   "language": "python",
   "name": "python3"
  },
  "language_info": {
   "codemirror_mode": {
    "name": "ipython",
    "version": 3
   },
   "file_extension": ".py",
   "mimetype": "text/x-python",
   "name": "python",
   "nbconvert_exporter": "python",
   "pygments_lexer": "ipython3",
   "version": "3.11.3"
  }
 },
 "nbformat": 4,
 "nbformat_minor": 5
}
