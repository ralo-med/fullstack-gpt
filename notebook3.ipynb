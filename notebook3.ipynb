{
 "cells": [
  {
   "cell_type": "code",
   "execution_count": null,
   "id": "38b24680",
   "metadata": {},
   "outputs": [],
   "source": [
    "import subprocess\n",
    "\n",
    "def extract_audio_from_video(video_path,audio_path):\n",
    "    command=[\"ffmpeg\", \"-i\" video_path, \"-vn\" audio_path]\n",
    "    subprocess.run(command,check=True)\n",
    "    return audio_path\n"
   ]
  }
 ],
 "metadata": {
  "kernelspec": {
   "display_name": "env",
   "language": "python",
   "name": "python3"
  },
  "language_info": {
   "name": "python",
   "version": "3.11.3"
  }
 },
 "nbformat": 4,
 "nbformat_minor": 5
}
