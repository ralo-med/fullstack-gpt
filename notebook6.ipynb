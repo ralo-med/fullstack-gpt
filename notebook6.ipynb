{
 "cells": [
  {
   "cell_type": "code",
   "execution_count": null,
   "id": "64fa0a42",
   "metadata": {},
   "outputs": [
    {
     "name": "stderr",
     "output_type": "stream",
     "text": [
      "/Users/nks/Documents/fullstack-gpt/env/lib/python3.11/site-packages/langchain_community/utilities/duckduckgo_search.py:47: RuntimeWarning: This package (`duckduckgo_search`) has been renamed to `ddgs`! Use `pip install ddgs` instead.\n",
      "  with DDGS() as ddgs:\n",
      "/Users/nks/Documents/fullstack-gpt/env/lib/python3.11/site-packages/langchain_community/utilities/duckduckgo_search.py:48: UserWarning: backend='api' is deprecated, using backend='auto'\n",
      "  ddgs_gen = ddgs.text(\n"
     ]
    },
    {
     "name": "stdout",
     "output_type": "stream",
     "text": [
      "\n",
      "🗨️  Assistant: I have gathered financial data on Salesforce (Ticker: CRM), including recent income statements and balance sheets. Would you like a summary of its recent financial performance, an analysis of its financial health, or an opinion on whether it's a good buy based on this data?\n"
     ]
    },
    {
     "name": "stderr",
     "output_type": "stream",
     "text": [
      "/Users/nks/Documents/fullstack-gpt/env/lib/python3.11/site-packages/langchain_community/utilities/duckduckgo_search.py:47: RuntimeWarning: This package (`duckduckgo_search`) has been renamed to `ddgs`! Use `pip install ddgs` instead.\n",
      "  with DDGS() as ddgs:\n",
      "/Users/nks/Documents/fullstack-gpt/env/lib/python3.11/site-packages/langchain_community/utilities/duckduckgo_search.py:48: UserWarning: backend='api' is deprecated, using backend='auto'\n",
      "  ddgs_gen = ddgs.text(\n"
     ]
    },
    {
     "name": "stdout",
     "output_type": "stream",
     "text": [
      "\n",
      "🗨️  Assistant: I have obtained the latest financial data for Cloudflare (Ticker: NET). Based on recent income statements, it appears that Cloudflare has been experiencing losses, with negative net income and EPS. Would you like an analysis of its financial health, growth prospects, or a comparison with other companies to determine if it might be a good buy?\n"
     ]
    }
   ],
   "source": [
    "import os, json\n",
    "from openai import OpenAI\n",
    "from langchain_community.utilities.duckduckgo_search import DuckDuckGoSearchAPIWrapper\n",
    "import yfinance as yf\n",
    "from ddgs import DDGS\n",
    "\n",
    "client = OpenAI(api_key=os.getenv(\"OPENAI_API_KEY\"))\n",
    "def get_ticker(inputs: dict) -> str:\n",
    "    import re\n",
    "    TICKER_RE = re.compile(r'\\(([A-Z]{1,5})[:\\s\\)]')\n",
    "    company_name = inputs['company_name']\n",
    "    query = f\"{company_name} stock ticker site:finance.yahoo.com\"\n",
    "    with DDGS() as ddgs:\n",
    "        for res in ddgs.text(query, safesearch=\"off\", max_results=10):\n",
    "            m = TICKER_RE.search(res.get(\"body\", \"\") + res.get(\"title\", \"\"))\n",
    "            if m:\n",
    "                return m.group(1)\n",
    "    raise ValueError(f\"Ticker not found for {company_name}\")\n",
    "\n",
    "def get_income_statement(inputs: dict) -> str:\n",
    "    return yf.Ticker(inputs[\"ticker\"]).income_stmt.to_json()\n",
    "\n",
    "def get_balance_sheet(inputs: dict) -> str:\n",
    "    return yf.Ticker(inputs[\"ticker\"]).balance_sheet.to_json()\n",
    "\n",
    "def get_daily_stock_performance(inputs: dict) -> str:\n",
    "    return yf.Ticker(inputs[\"ticker\"]).history(period=\"3mo\").to_json()\n",
    "\n",
    "functions_map = {\n",
    "    \"get_ticker\": get_ticker,\n",
    "    \"get_income_statement\": get_income_statement,\n",
    "    \"get_balance_sheet\": get_balance_sheet,\n",
    "    \"get_daily_stock_performance\": get_daily_stock_performance,\n",
    "}\n",
    "\n",
    "tools = [\n",
    "    {\n",
    "        \"name\": \"get_ticker\",\n",
    "        \"type\": \"function\",\n",
    "        \"description\": \"Given a company name, return its ticker symbol.\",\n",
    "        \"parameters\": {\n",
    "            \"type\": \"object\",\n",
    "            \"properties\": {\"company_name\": {\"type\": \"string\"}},\n",
    "            \"required\": [\"company_name\"],\n",
    "            \"additionalProperties\": False,\n",
    "        },\n",
    "    },\n",
    "    {\n",
    "        \"name\": \"get_income_statement\",\n",
    "        \"type\": \"function\",\n",
    "        \"description\": \"Return the company's income statement.\",\n",
    "        \"parameters\": {\n",
    "            \"type\": \"object\",\n",
    "            \"properties\": {\"ticker\": {\"type\": \"string\"}},\n",
    "            \"required\": [\"ticker\"],\n",
    "            \"additionalProperties\": False,\n",
    "        },\n",
    "    },\n",
    "    {\n",
    "        \"name\": \"get_balance_sheet\",\n",
    "        \"type\": \"function\",\n",
    "        \"description\": \"Return the company's balance sheet.\",\n",
    "        \"parameters\": {\n",
    "            \"type\": \"object\",\n",
    "            \"properties\": {\"ticker\": {\"type\": \"string\"}},\n",
    "            \"required\": [\"ticker\"],\n",
    "            \"additionalProperties\": False,\n",
    "        },\n",
    "    },\n",
    "    {\n",
    "        \"name\": \"get_daily_stock_performance\",\n",
    "        \"type\": \"function\",\n",
    "        \"description\": \"Return daily stock prices for the last 3 months.\",\n",
    "        \"parameters\": {\n",
    "            \"type\": \"object\",\n",
    "            \"properties\": {\"ticker\": {\"type\": \"string\"}},\n",
    "            \"required\": [\"ticker\"],\n",
    "            \"additionalProperties\": False,\n",
    "        },\n",
    "    },\n",
    "]\n",
    "\n",
    "def investor_assistant(user_msg: str, history: list | None = None) -> list:\n",
    "    if history is None:\n",
    "        history = [{\"role\": \"system\", \"content\": \"You are a helpful financial analyst.\"}]\n",
    "    history.append({\"role\": \"user\", \"content\": user_msg})\n",
    "    resp = client.responses.create(\n",
    "        model=\"gpt-4.1-nano\",\n",
    "        input=history,\n",
    "        tools=tools,\n",
    "    )\n",
    "    if resp.output and resp.output[0].type == \"function_call\":\n",
    "        call = resp.output[0]\n",
    "        result = functions_map[call.name](json.loads(call.arguments))\n",
    "        history.extend([\n",
    "            call,\n",
    "            {\n",
    "                \"type\": \"function_call_output\",\n",
    "                \"call_id\": call.call_id,\n",
    "                \"output\": result,\n",
    "            },\n",
    "        ])\n",
    "        resp = client.responses.create(\n",
    "            model=\"gpt-4o-mini\",\n",
    "            input=history,\n",
    "            tools=tools,\n",
    "        )\n",
    "    print(\"\\n🗨️  Assistant:\", resp.output_text)\n",
    "    return history\n",
    "\n",
    "if __name__ == \"__main__\":\n",
    "    conv = investor_assistant(\"I want to know if the Salesforce stock is a good buy\")\n",
    "    conv = investor_assistant(\"Now I want to know if Cloudflare is a good buy\", conv)\n"
   ]
  },
  {
   "cell_type": "code",
   "execution_count": 12,
   "id": "01a26b8e",
   "metadata": {},
   "outputs": [
    {
     "data": {
      "text/plain": [
       "'{\"1735603200000\":{\"Tax Effect Of Unusual Items\":0.0,\"Tax Rate For Calcs\":0.21,\"Normalized EBITDA\":62047000.0,\"Total Unusual Items\":0.0,\"Total Unusual Items Excluding Goodwill\":0.0,\"Net Income From Continuing Operation Net Minority Interest\":-78800000.0,\"Reconciled Depreciation\":127722000.0,\"Reconciled Cost Of Revenue\":378702000.0,\"EBITDA\":62047000.0,\"EBIT\":-65675000.0,\"Net Interest Income\":82230000.0,\"Interest Expense\":5196000.0,\"Interest Income\":87426000.0,\"Normalized Income\":-78800000.0,\"Net Income From Continuing And Discontinued Operation\":-78800000.0,\"Total Expenses\":1824387000.0,\"Total Operating Income As Reported\":-154761000.0,\"Diluted Average Shares\":341411000.0,\"Basic Average Shares\":341411000.0,\"Diluted EPS\":-0.23,\"Basic EPS\":-0.23,\"Diluted NI Availto Com Stockholders\":-78800000.0,\"Net Income Common Stockholders\":-78800000.0,\"Net Income\":-78800000.0,\"Net Income Including Noncontrolling Interests\":-78800000.0,\"Net Income Continuous Operations\":-78800000.0,\"Tax Provision\":7929000.0,\"Pretax Income\":-70871000.0,\"Other Income Expense\":1660000.0,\"Other Non Operating Income Expenses\":1660000.0,\"Special Income Charges\":0.0,\"Other Special Charges\":null,\"Net Non Operating Interest Income Expense\":82230000.0,\"Interest Expense Non Operating\":5196000.0,\"Interest Income Non Operating\":87426000.0,\"Operating Income\":-154761000.0,\"Operating Expense\":1445685000.0,\"Research And Development\":421374000.0,\"Selling General And Administration\":1024311000.0,\"Selling And Marketing Expense\":745791000.0,\"General And Administrative Expense\":278520000.0,\"Other Gand A\":278520000.0,\"Gross Profit\":1290924000.0,\"Cost Of Revenue\":378702000.0,\"Total Revenue\":1669626000.0,\"Operating Revenue\":1669626000.0},\"1703980800000\":{\"Tax Effect Of Unusual Items\":-10563000.0,\"Tax Rate For Calcs\":0.21,\"Normalized EBITDA\":14130000.0,\"Total Unusual Items\":-50300000.0,\"Total Unusual Items Excluding Goodwill\":-50300000.0,\"Net Income From Continuing Operation Net Minority Interest\":-183949000.0,\"Reconciled Depreciation\":135820000.0,\"Reconciled Cost Of Revenue\":307005000.0,\"EBITDA\":-36170000.0,\"EBIT\":-171990000.0,\"Net Interest Income\":62295000.0,\"Interest Expense\":5872000.0,\"Interest Income\":68167000.0,\"Normalized Income\":-144212000.0,\"Net Income From Continuing And Discontinued Operation\":-183949000.0,\"Total Expenses\":1482230000.0,\"Total Operating Income As Reported\":-185485000.0,\"Diluted Average Shares\":333656000.0,\"Basic Average Shares\":333656000.0,\"Diluted EPS\":-0.55,\"Basic EPS\":-0.55,\"Diluted NI Availto Com Stockholders\":-183949000.0,\"Net Income Common Stockholders\":-183949000.0,\"Net Income\":-183949000.0,\"Net Income Including Noncontrolling Interests\":-183949000.0,\"Net Income Continuous Operations\":-183949000.0,\"Tax Provision\":6087000.0,\"Pretax Income\":-177862000.0,\"Other Income Expense\":-54672000.0,\"Other Non Operating Income Expenses\":-4372000.0,\"Special Income Charges\":-50300000.0,\"Other Special Charges\":50300000.0,\"Net Non Operating Interest Income Expense\":62295000.0,\"Interest Expense Non Operating\":5872000.0,\"Interest Income Non Operating\":68167000.0,\"Operating Income\":-185485000.0,\"Operating Expense\":1175225000.0,\"Research And Development\":358143000.0,\"Selling General And Administration\":817082000.0,\"Selling And Marketing Expense\":599117000.0,\"General And Administrative Expense\":217965000.0,\"Other Gand A\":217965000.0,\"Gross Profit\":989740000.0,\"Cost Of Revenue\":307005000.0,\"Total Revenue\":1296745000.0,\"Operating Revenue\":1296745000.0},\"1672444800000\":{\"Tax Effect Of Unusual Items\":0.0,\"Tax Rate For Calcs\":0.21,\"Normalized EBITDA\":-83414000.0,\"Total Unusual Items\":0.0,\"Total Unusual Items Excluding Goodwill\":0.0,\"Net Income From Continuing Operation Net Minority Interest\":-193381000.0,\"Reconciled Depreciation\":102335000.0,\"Reconciled Cost Of Revenue\":232610000.0,\"EBITDA\":-83414000.0,\"EBIT\":-185749000.0,\"Net Interest Income\":9893000.0,\"Interest Expense\":4984000.0,\"Interest Income\":14877000.0,\"Normalized Income\":-193381000.0,\"Net Income From Continuing And Discontinued Operation\":-193381000.0,\"Total Expenses\":1176444000.0,\"Total Operating Income As Reported\":-201203000.0,\"Diluted Average Shares\":326332000.0,\"Basic Average Shares\":326332000.0,\"Diluted EPS\":-0.59,\"Basic EPS\":-0.59,\"Diluted NI Availto Com Stockholders\":-193381000.0,\"Net Income Common Stockholders\":-193381000.0,\"Net Income\":-193381000.0,\"Net Income Including Noncontrolling Interests\":-193381000.0,\"Net Income Continuous Operations\":-193381000.0,\"Tax Provision\":2648000.0,\"Pretax Income\":-190733000.0,\"Other Income Expense\":577000.0,\"Other Non Operating Income Expenses\":577000.0,\"Special Income Charges\":0.0,\"Other Special Charges\":null,\"Net Non Operating Interest Income Expense\":9893000.0,\"Interest Expense Non Operating\":4984000.0,\"Interest Income Non Operating\":14877000.0,\"Operating Income\":-201203000.0,\"Operating Expense\":943834000.0,\"Research And Development\":298303000.0,\"Selling General And Administration\":645531000.0,\"Selling And Marketing Expense\":465762000.0,\"General And Administrative Expense\":179769000.0,\"Other Gand A\":179769000.0,\"Gross Profit\":742631000.0,\"Cost Of Revenue\":232610000.0,\"Total Revenue\":975241000.0,\"Operating Revenue\":975241000.0},\"1640908800000\":{\"Tax Effect Of Unusual Items\":-19503180.0,\"Tax Rate For Calcs\":0.27,\"Normalized EBITDA\":-59901000.0,\"Total Unusual Items\":-72234000.0,\"Total Unusual Items Excluding Goodwill\":-72234000.0,\"Net Income From Continuing Operation Net Minority Interest\":-260309000.0,\"Reconciled Depreciation\":66607000.0,\"Reconciled Cost Of Revenue\":147134000.0,\"EBITDA\":-132135000.0,\"EBIT\":-198742000.0,\"Net Interest Income\":-47264000.0,\"Interest Expense\":49234000.0,\"Interest Income\":1970000.0,\"Normalized Income\":-207578180.0,\"Net Income From Continuing And Discontinued Operation\":-260309000.0,\"Total Expenses\":784110000.0,\"Total Operating Income As Reported\":-127684000.0,\"Diluted Average Shares\":312321000.0,\"Basic Average Shares\":312321000.0,\"Diluted EPS\":-0.83,\"Basic EPS\":-0.83,\"Diluted NI Availto Com Stockholders\":-260309000.0,\"Net Income Common Stockholders\":-260309000.0,\"Net Income\":-260309000.0,\"Net Income Including Noncontrolling Interests\":-260309000.0,\"Net Income Continuous Operations\":-260309000.0,\"Tax Provision\":12333000.0,\"Pretax Income\":-247976000.0,\"Other Income Expense\":-73028000.0,\"Other Non Operating Income Expenses\":-794000.0,\"Special Income Charges\":-72234000.0,\"Other Special Charges\":72234000.0,\"Net Non Operating Interest Income Expense\":-47264000.0,\"Interest Expense Non Operating\":49234000.0,\"Interest Income Non Operating\":1970000.0,\"Operating Income\":-127684000.0,\"Operating Expense\":636976000.0,\"Research And Development\":189408000.0,\"Selling General And Administration\":447568000.0,\"Selling And Marketing Expense\":328065000.0,\"General And Administrative Expense\":119503000.0,\"Other Gand A\":119503000.0,\"Gross Profit\":509292000.0,\"Cost Of Revenue\":147134000.0,\"Total Revenue\":656426000.0,\"Operating Revenue\":656426000.0}}'"
      ]
     },
     "execution_count": 12,
     "metadata": {},
     "output_type": "execute_result"
    }
   ],
   "source": [
    "yf.Ticker(\"NET\").income_stmt.to_json()"
   ]
  },
  {
   "cell_type": "code",
   "execution_count": null,
   "id": "6b310f75",
   "metadata": {},
   "outputs": [],
   "source": []
  }
 ],
 "metadata": {
  "kernelspec": {
   "display_name": "env",
   "language": "python",
   "name": "python3"
  },
  "language_info": {
   "codemirror_mode": {
    "name": "ipython",
    "version": 3
   },
   "file_extension": ".py",
   "mimetype": "text/x-python",
   "name": "python",
   "nbconvert_exporter": "python",
   "pygments_lexer": "ipython3",
   "version": "3.11.3"
  }
 },
 "nbformat": 4,
 "nbformat_minor": 5
}
