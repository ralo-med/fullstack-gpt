{
 "cells": [
  {
   "cell_type": "code",
   "execution_count": null,
   "id": "b48be36d",
   "metadata": {},
   "outputs": [],
   "source": [
    "import pinecone\n",
    "import os\n",
    "from langchain_community.document_loaders import CSVLoader\n",
    "from langchain_text_splitters import RecursiveCharacterTextSplitter\n",
    "from langchain_openai import OpenAIEmbeddings\n",
    "from langchain_pinecone import PineconeVectorStore\n",
    "\n",
    "from pinecone import Pinecone\n",
    "\n",
    "# Initialize a Pinecone client with your API key\n",
    "pc = Pinecone(api_key=os.getenv(\"PINECONE_API_KEY\"))\n",
    "\n",
    "splitter = RecursiveCharacterTextSplitter.from_tiktoken_encoder()\n",
    "\n",
    "loader = CSVLoader(file_path=\"recipes.csv\")\n",
    "\n",
    "docs = loader.load()\n",
    "\n",
    "docs_split = splitter.split_documents(docs)\n",
    "\n",
    "print(len(docs_split))\n",
    "\n",
    "embeddings = OpenAIEmbeddings(model=\"text-embedding-3-small\")\n",
    "\n",
    "batch_size = 100  # 또는 토큰 수 기준으로 더 세밀하게 조절\n",
    "\n",
    "for i in range(0, len(docs_split), batch_size):\n",
    "    batch = docs_split[i:i+batch_size]\n",
    "    PineconeVectorStore.from_documents(\n",
    "        batch,\n",
    "        embedding=embeddings,\n",
    "        index_name=\"recipes\"\n",
    "    )"
   ]
  },
  {
   "cell_type": "code",
   "execution_count": null,
   "id": "699fc274",
   "metadata": {},
   "outputs": [
    {
     "data": {
      "text/plain": [
       "[Document(id='84b4a7d3-fe0b-47ba-b307-feb5f08562b9', metadata={'row': 10.0, 'source': 'recipes.csv'}, page_content=': 10\\nhref: https://veganuary.com/recipes/tahini-protein-balls/\\ntitle: Tahini Protein Balls\\ningredients: Ingredients\\n\\n1 scoop of pea, soya or hemp protein powder  \\n2 tablespoons chia seeds \\n3 tablespoons cocoa powder or raw cacao \\n3 tablespoons of tahini, or peanut butter or any of your favourite nut butter \\n1 -2 tablespoon of brown rice syrup (depending how sweet you like it) \\n1 tablespoon coconut oil \\nPuffed quinoa, goji berries or any other favourite nuts or seeds to roll the balls in them\\npreparation: Method\\n\\nMix your protein powder, cocoa and chia seeds.\\nAdd brown rice syrup, mix, add coconut oil, mix and then slowly add tahini or nut butter.\\nCombine well together, create balls and roll them in your favourite topping.\\nKeep them in the fridge and pop in your mouth whenever you need something sweet or a little pick-me-up.'),\n",
       " Document(id='c6236ddc-3de4-4dab-b2d7-99bfc5379717', metadata={'row': 10.0, 'source': 'recipes.csv'}, page_content=': 10\\nhref: https://veganuary.com/recipes/tahini-protein-balls/\\ntitle: Tahini Protein Balls\\ningredients: Ingredients\\n\\n1 scoop of pea, soya or hemp protein powder  \\n2 tablespoons chia seeds \\n3 tablespoons cocoa powder or raw cacao \\n3 tablespoons of tahini, or peanut butter or any of your favourite nut butter \\n1 -2 tablespoon of brown rice syrup (depending how sweet you like it) \\n1 tablespoon coconut oil \\nPuffed quinoa, goji berries or any other favourite nuts or seeds to roll the balls in them\\npreparation: Method\\n\\nMix your protein powder, cocoa and chia seeds.\\nAdd brown rice syrup, mix, add coconut oil, mix and then slowly add tahini or nut butter.\\nCombine well together, create balls and roll them in your favourite topping.\\nKeep them in the fridge and pop in your mouth whenever you need something sweet or a little pick-me-up.'),\n",
       " Document(id='338684c4-7278-4854-be3a-0c7beab174ac', metadata={'row': 627.0, 'source': 'recipes.csv'}, page_content=': 627\\nhref: https://veganuary.com/recipes/superfood-poke-bowl/\\ntitle: Superfood Poke Bowl\\ningredients: Ingredients\\n\\n1 block of extra firm tofu, cut into cubes\\n200g pineapple chunks\\n1 tablespoon of soy sauce/tamari\\n1 tablespoon of sesame oil\\n1 garlic clove, crushed\\n1 avocado\\n380g cooked brown rice\\nMix of kale, spinach and rocket leaves\\nSesame seeds\\n1/2 cucumber, sliced\\n9 radishes, sliced\\npreparation: Preparation\\n\\nPreheat oven to 180c, and line a baking tray\\nIn a bowl combine soy sauce/tamari/sesame oil and garlic\\nAdd the tofu chunks and coat evenly, before placing on baking tray and into the oven for 20 minutes\\nMassage the mixed leaves with a drizzle of oil, and then line the lunch boxes\\nAdd the tofu and pineapple chunks, rice, avocado, cucumber and radishes\\nGarnish with sesame seeds'),\n",
       " Document(id='f8f455a7-f9b3-45c7-858b-7362d94e453a', metadata={'row': 1193.0, 'source': 'recipes.csv'}, page_content=': 1193\\nhref: https://simple-veganista.com/tofu-poke-bowl-recipe/\\ntitle: VEGAN TOFU POKE BOWL\\ningredients: Ingredients\\n\\n\\n\\nUnits\\nUSM \\n\\nScale\\n1x2x3x \\n\\n\\n\\nTofu Poke\\n\\n1/4 to 1/3 cup tamari, coconut aminos or soy sauce\\n1 tablespoon rice vinegar or lime juice\\n1/2 tablespoon sambal oelek\\n1 teaspoon sesame oil\\n2 cloves garlic, smashed and finely chopped or finely grated\\n1 inch piece ginger, peeled and finely chopped or grated\\n1/3 sweet onion, such as Maui onion, julienned\\n14 oz block organic tofu (firm or extra firm), cut into 1/2 inch cubes\\n\\nBowl Filling\\n\\n1/2 cucumber, sliced\\n3 – 4 radishes, sliced\\n1/4 red cabbage, shredded\\n1 avocado, diced or sliced\\n1 tablespoon sesame seeds, toasted or black\\n2 scallions, white and green parts, sliced thinly on the bias\\n1/3 cup cilantro, roughly chopped\\n1 1/2 cups cooked rice (brown, black or cilantro lime rice) or quinoa\\n\\nTo Serve\\n\\nDynamite Sauce, optional\\nlime wedges\\npreparation: Instructions\\n\\n\\n\\n\\nPrep tofu: Drain the tofu and place it on its side, cut in half down the long side. Place on a clean dish cloth or between paper towels and gently press to soak up some of the moisture. Dice the tofu into 1/2 inch cubes.\\nMarinate: In a medium bowl or shallow dish, combine the soy sauce, sambal, sesame oil, garlic, ginger and sweet onions. Toss in the tofu and let rest in for 10 minutes.\\nPrep the remaining ingredients and assemble your bowls.\\nServes\\xa0 3')]"
      ]
     },
     "metadata": {},
     "output_type": "display_data"
    }
   ],
   "source": [
    "import pinecone\n",
    "import os\n",
    "from langchain_community.document_loaders import CSVLoader\n",
    "from langchain_text_splitters import RecursiveCharacterTextSplitter\n",
    "from langchain_openai import OpenAIEmbeddings\n",
    "from langchain_pinecone import PineconeVectorStore\n",
    "\n",
    "from pinecone import Pinecone\n",
    "\n",
    "# Initialize a Pinecone client with your API key\n",
    "pc = Pinecone(api_key=os.getenv(\"PINECONE_API_KEY\"))\n",
    "vector_store = PineconeVectorStore(index_name=\"recipes\",embedding=OpenAIEmbeddings(model=\"text-embedding-3-small\"))\n",
    "docs = vector_store.similarity_search(\"topu\")\n",
    "docs"
   ]
  },
  {
   "cell_type": "code",
   "execution_count": null,
   "id": "32f54c9f",
   "metadata": {},
   "outputs": [
    {
     "data": {
      "text/plain": [
       "[Document(id='84b4a7d3-fe0b-47ba-b307-feb5f08562b9', metadata={'row': 10.0, 'source': 'recipes.csv'}, page_content=': 10\\nhref: https://veganuary.com/recipes/tahini-protein-balls/\\ntitle: Tahini Protein Balls\\ningredients: Ingredients\\n\\n1 scoop of pea, soya or hemp protein powder  \\n2 tablespoons chia seeds \\n3 tablespoons cocoa powder or raw cacao \\n3 tablespoons of tahini, or peanut butter or any of your favourite nut butter \\n1 -2 tablespoon of brown rice syrup (depending how sweet you like it) \\n1 tablespoon coconut oil \\nPuffed quinoa, goji berries or any other favourite nuts or seeds to roll the balls in them\\npreparation: Method\\n\\nMix your protein powder, cocoa and chia seeds.\\nAdd brown rice syrup, mix, add coconut oil, mix and then slowly add tahini or nut butter.\\nCombine well together, create balls and roll them in your favourite topping.\\nKeep them in the fridge and pop in your mouth whenever you need something sweet or a little pick-me-up.'),\n",
       " Document(id='c6236ddc-3de4-4dab-b2d7-99bfc5379717', metadata={'row': 10.0, 'source': 'recipes.csv'}, page_content=': 10\\nhref: https://veganuary.com/recipes/tahini-protein-balls/\\ntitle: Tahini Protein Balls\\ningredients: Ingredients\\n\\n1 scoop of pea, soya or hemp protein powder  \\n2 tablespoons chia seeds \\n3 tablespoons cocoa powder or raw cacao \\n3 tablespoons of tahini, or peanut butter or any of your favourite nut butter \\n1 -2 tablespoon of brown rice syrup (depending how sweet you like it) \\n1 tablespoon coconut oil \\nPuffed quinoa, goji berries or any other favourite nuts or seeds to roll the balls in them\\npreparation: Method\\n\\nMix your protein powder, cocoa and chia seeds.\\nAdd brown rice syrup, mix, add coconut oil, mix and then slowly add tahini or nut butter.\\nCombine well together, create balls and roll them in your favourite topping.\\nKeep them in the fridge and pop in your mouth whenever you need something sweet or a little pick-me-up.'),\n",
       " Document(id='338684c4-7278-4854-be3a-0c7beab174ac', metadata={'row': 627.0, 'source': 'recipes.csv'}, page_content=': 627\\nhref: https://veganuary.com/recipes/superfood-poke-bowl/\\ntitle: Superfood Poke Bowl\\ningredients: Ingredients\\n\\n1 block of extra firm tofu, cut into cubes\\n200g pineapple chunks\\n1 tablespoon of soy sauce/tamari\\n1 tablespoon of sesame oil\\n1 garlic clove, crushed\\n1 avocado\\n380g cooked brown rice\\nMix of kale, spinach and rocket leaves\\nSesame seeds\\n1/2 cucumber, sliced\\n9 radishes, sliced\\npreparation: Preparation\\n\\nPreheat oven to 180c, and line a baking tray\\nIn a bowl combine soy sauce/tamari/sesame oil and garlic\\nAdd the tofu chunks and coat evenly, before placing on baking tray and into the oven for 20 minutes\\nMassage the mixed leaves with a drizzle of oil, and then line the lunch boxes\\nAdd the tofu and pineapple chunks, rice, avocado, cucumber and radishes\\nGarnish with sesame seeds'),\n",
       " Document(id='f8f455a7-f9b3-45c7-858b-7362d94e453a', metadata={'row': 1193.0, 'source': 'recipes.csv'}, page_content=': 1193\\nhref: https://simple-veganista.com/tofu-poke-bowl-recipe/\\ntitle: VEGAN TOFU POKE BOWL\\ningredients: Ingredients\\n\\n\\n\\nUnits\\nUSM \\n\\nScale\\n1x2x3x \\n\\n\\n\\nTofu Poke\\n\\n1/4 to 1/3 cup tamari, coconut aminos or soy sauce\\n1 tablespoon rice vinegar or lime juice\\n1/2 tablespoon sambal oelek\\n1 teaspoon sesame oil\\n2 cloves garlic, smashed and finely chopped or finely grated\\n1 inch piece ginger, peeled and finely chopped or grated\\n1/3 sweet onion, such as Maui onion, julienned\\n14 oz block organic tofu (firm or extra firm), cut into 1/2 inch cubes\\n\\nBowl Filling\\n\\n1/2 cucumber, sliced\\n3 – 4 radishes, sliced\\n1/4 red cabbage, shredded\\n1 avocado, diced or sliced\\n1 tablespoon sesame seeds, toasted or black\\n2 scallions, white and green parts, sliced thinly on the bias\\n1/3 cup cilantro, roughly chopped\\n1 1/2 cups cooked rice (brown, black or cilantro lime rice) or quinoa\\n\\nTo Serve\\n\\nDynamite Sauce, optional\\nlime wedges\\npreparation: Instructions\\n\\n\\n\\n\\nPrep tofu: Drain the tofu and place it on its side, cut in half down the long side. Place on a clean dish cloth or between paper towels and gently press to soak up some of the moisture. Dice the tofu into 1/2 inch cubes.\\nMarinate: In a medium bowl or shallow dish, combine the soy sauce, sambal, sesame oil, garlic, ginger and sweet onions. Toss in the tofu and let rest in for 10 minutes.\\nPrep the remaining ingredients and assemble your bowls.\\nServes\\xa0 3')]"
      ]
     },
     "metadata": {},
     "output_type": "display_data"
    }
   ],
   "source": [
    "import pinecone\n",
    "import os\n",
    "from langchain_community.document_loaders import CSVLoader\n",
    "from langchain_text_splitters import RecursiveCharacterTextSplitter\n",
    "from langchain_openai import OpenAIEmbeddings\n",
    "from langchain_pinecone import PineconeVectorStore\n",
    "\n",
    "from pinecone import Pinecone\n",
    "\n",
    "# Initialize a Pinecone client with your API key\n",
    "pc = Pinecone(api_key=os.getenv(\"PINECONE_API_KEY\"))\n",
    "vector_store = PineconeVectorStore(index_name=\"recipes\",embedding=OpenAIEmbeddings(model=\"text-embedding-3-small\"))\n",
    "docs = vector_store.similarity_search(\"topu\")\n",
    "docs"
   ]
  },
  {
   "cell_type": "code",
   "execution_count": 8,
   "id": "933a0c6f",
   "metadata": {},
   "outputs": [
    {
     "data": {
      "text/plain": [
       "[Document(id='84b4a7d3-fe0b-47ba-b307-feb5f08562b9', metadata={'row': 10.0, 'source': 'recipes.csv'}, page_content=': 10\\nhref: https://veganuary.com/recipes/tahini-protein-balls/\\ntitle: Tahini Protein Balls\\ningredients: Ingredients\\n\\n1 scoop of pea, soya or hemp protein powder  \\n2 tablespoons chia seeds \\n3 tablespoons cocoa powder or raw cacao \\n3 tablespoons of tahini, or peanut butter or any of your favourite nut butter \\n1 -2 tablespoon of brown rice syrup (depending how sweet you like it) \\n1 tablespoon coconut oil \\nPuffed quinoa, goji berries or any other favourite nuts or seeds to roll the balls in them\\npreparation: Method\\n\\nMix your protein powder, cocoa and chia seeds.\\nAdd brown rice syrup, mix, add coconut oil, mix and then slowly add tahini or nut butter.\\nCombine well together, create balls and roll them in your favourite topping.\\nKeep them in the fridge and pop in your mouth whenever you need something sweet or a little pick-me-up.'),\n",
       " Document(id='c6236ddc-3de4-4dab-b2d7-99bfc5379717', metadata={'row': 10.0, 'source': 'recipes.csv'}, page_content=': 10\\nhref: https://veganuary.com/recipes/tahini-protein-balls/\\ntitle: Tahini Protein Balls\\ningredients: Ingredients\\n\\n1 scoop of pea, soya or hemp protein powder  \\n2 tablespoons chia seeds \\n3 tablespoons cocoa powder or raw cacao \\n3 tablespoons of tahini, or peanut butter or any of your favourite nut butter \\n1 -2 tablespoon of brown rice syrup (depending how sweet you like it) \\n1 tablespoon coconut oil \\nPuffed quinoa, goji berries or any other favourite nuts or seeds to roll the balls in them\\npreparation: Method\\n\\nMix your protein powder, cocoa and chia seeds.\\nAdd brown rice syrup, mix, add coconut oil, mix and then slowly add tahini or nut butter.\\nCombine well together, create balls and roll them in your favourite topping.\\nKeep them in the fridge and pop in your mouth whenever you need something sweet or a little pick-me-up.'),\n",
       " Document(id='338684c4-7278-4854-be3a-0c7beab174ac', metadata={'row': 627.0, 'source': 'recipes.csv'}, page_content=': 627\\nhref: https://veganuary.com/recipes/superfood-poke-bowl/\\ntitle: Superfood Poke Bowl\\ningredients: Ingredients\\n\\n1 block of extra firm tofu, cut into cubes\\n200g pineapple chunks\\n1 tablespoon of soy sauce/tamari\\n1 tablespoon of sesame oil\\n1 garlic clove, crushed\\n1 avocado\\n380g cooked brown rice\\nMix of kale, spinach and rocket leaves\\nSesame seeds\\n1/2 cucumber, sliced\\n9 radishes, sliced\\npreparation: Preparation\\n\\nPreheat oven to 180c, and line a baking tray\\nIn a bowl combine soy sauce/tamari/sesame oil and garlic\\nAdd the tofu chunks and coat evenly, before placing on baking tray and into the oven for 20 minutes\\nMassage the mixed leaves with a drizzle of oil, and then line the lunch boxes\\nAdd the tofu and pineapple chunks, rice, avocado, cucumber and radishes\\nGarnish with sesame seeds'),\n",
       " Document(id='f8f455a7-f9b3-45c7-858b-7362d94e453a', metadata={'row': 1193.0, 'source': 'recipes.csv'}, page_content=': 1193\\nhref: https://simple-veganista.com/tofu-poke-bowl-recipe/\\ntitle: VEGAN TOFU POKE BOWL\\ningredients: Ingredients\\n\\n\\n\\nUnits\\nUSM \\n\\nScale\\n1x2x3x \\n\\n\\n\\nTofu Poke\\n\\n1/4 to 1/3 cup tamari, coconut aminos or soy sauce\\n1 tablespoon rice vinegar or lime juice\\n1/2 tablespoon sambal oelek\\n1 teaspoon sesame oil\\n2 cloves garlic, smashed and finely chopped or finely grated\\n1 inch piece ginger, peeled and finely chopped or grated\\n1/3 sweet onion, such as Maui onion, julienned\\n14 oz block organic tofu (firm or extra firm), cut into 1/2 inch cubes\\n\\nBowl Filling\\n\\n1/2 cucumber, sliced\\n3 – 4 radishes, sliced\\n1/4 red cabbage, shredded\\n1 avocado, diced or sliced\\n1 tablespoon sesame seeds, toasted or black\\n2 scallions, white and green parts, sliced thinly on the bias\\n1/3 cup cilantro, roughly chopped\\n1 1/2 cups cooked rice (brown, black or cilantro lime rice) or quinoa\\n\\nTo Serve\\n\\nDynamite Sauce, optional\\nlime wedges\\npreparation: Instructions\\n\\n\\n\\n\\nPrep tofu: Drain the tofu and place it on its side, cut in half down the long side. Place on a clean dish cloth or between paper towels and gently press to soak up some of the moisture. Dice the tofu into 1/2 inch cubes.\\nMarinate: In a medium bowl or shallow dish, combine the soy sauce, sambal, sesame oil, garlic, ginger and sweet onions. Toss in the tofu and let rest in for 10 minutes.\\nPrep the remaining ingredients and assemble your bowls.\\nServes\\xa0 3')]"
      ]
     },
     "execution_count": 8,
     "metadata": {},
     "output_type": "execute_result"
    }
   ],
   "source": [
    "import pinecone\n",
    "import os\n",
    "from langchain_community.document_loaders import CSVLoader\n",
    "from langchain_text_splitters import RecursiveCharacterTextSplitter\n",
    "from langchain_openai import OpenAIEmbeddings\n",
    "from langchain_pinecone import PineconeVectorStore\n",
    "\n",
    "from pinecone import Pinecone\n",
    "\n",
    "# Initialize a Pinecone client with your API key\n",
    "pc = Pinecone(api_key=os.getenv(\"PINECONE_API_KEY\"))\n",
    "vector_store = PineconeVectorStore(index_name=\"recipes\",embedding=OpenAIEmbeddings(model=\"text-embedding-3-small\"))\n",
    "docs = vector_store.similarity_search(\"topu\")\n",
    "docs"
   ]
  },
  {
   "cell_type": "code",
   "execution_count": null,
   "id": "73365aae",
   "metadata": {},
   "outputs": [],
   "source": []
  }
 ],
 "metadata": {
  "kernelspec": {
   "display_name": "env",
   "language": "python",
   "name": "python3"
  },
  "language_info": {
   "codemirror_mode": {
    "name": "ipython",
    "version": 3
   },
   "file_extension": ".py",
   "mimetype": "text/x-python",
   "name": "python",
   "nbconvert_exporter": "python",
   "pygments_lexer": "ipython3",
   "version": "3.11.3"
  }
 },
 "nbformat": 4,
 "nbformat_minor": 5
}
