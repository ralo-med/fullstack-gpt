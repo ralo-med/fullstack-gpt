{
 "cells": [
  {
   "cell_type": "code",
   "execution_count": null,
   "id": "c772a037",
   "metadata": {},
   "outputs": [
    {
     "name": "stdout",
     "output_type": "stream",
     "text": [
      "\n",
      "\n",
      "\u001b[1m> Entering new AgentExecutor chain...\u001b[0m\n",
      "\u001b[32;1m\u001b[1;3m\n",
      "Invoking: `StockMarketSymbolSearchTool` with `{'query': 'Stock Market Symbol for Cloudflare'}`\n",
      "\n",
      "\n",
      "\u001b[0m"
     ]
    },
    {
     "name": "stderr",
     "output_type": "stream",
     "text": [
      "/Users/nks/Documents/fullstack-gpt/env/lib/python3.11/site-packages/langchain_community/utilities/duckduckgo_search.py:47: RuntimeWarning: This package (`duckduckgo_search`) has been renamed to `ddgs`! Use `pip install ddgs` instead.\n",
      "  with DDGS() as ddgs:\n",
      "/Users/nks/Documents/fullstack-gpt/env/lib/python3.11/site-packages/langchain_community/utilities/duckduckgo_search.py:48: UserWarning: backend='api' is deprecated, using backend='auto'\n",
      "  ddgs_gen = ddgs.text(\n"
     ]
    },
    {
     "name": "stdout",
     "output_type": "stream",
     "text": [
      "\u001b[36;1m\u001b[1;3m6 days ago · A detailed overview of Cloudflare, Inc. (NET) stock, including real-time price, chart, key statistics, news, and more. 5 days ago · Latest Cloudflare Inc (NET:NYQ) share price with interactive charts, historical prices, comparative analysis, forecasts, business profile and more. Jun 23, 2025 · In the latest close session, Cloudflare (NET) was up +2.55% at $183.87. The stock outpaced the S&P 500's daily gain of 0.96%. Elsewhere, the Dow saw an upswing of 0.89%, … Oct 2, 2024 · Cloudflare's revenue growth is likely to dip below 30% in Q3, but should reaccelerate in 2025. Its stock may appear expensive. Find out why NET stock is a Buy. Dec 17, 2024 · Cloudflare&#39;s stock rose premarket on Tuesday after Stifel upgraded the shares to Buy, citing improving execution, and strong growth potential.\u001b[0m"
     ]
    },
    {
     "name": "stderr",
     "output_type": "stream",
     "text": [
      "/Users/nks/Documents/fullstack-gpt/env/lib/python3.11/site-packages/pydantic/main.py:1311: PydanticDeprecatedSince20: The `schema` method is deprecated; use `model_json_schema` instead. Deprecated in Pydantic V2.0 to be removed in V3.0. See Pydantic V2 Migration Guide at https://errors.pydantic.dev/2.7/migration/\n",
      "  warnings.warn(\n"
     ]
    },
    {
     "name": "stdout",
     "output_type": "stream",
     "text": [
      "\u001b[32;1m\u001b[1;3mThe stock market symbol for Cloudflare is NET. Cloudflare's stock price was $183.87 in the latest close session, showing a 2.55% increase. Analysts have mentioned that Cloudflare's revenue growth is expected to dip below 30% in Q3 but should reaccelerate in 2025. The stock may appear expensive, but some analysts consider it a Buy due to improving execution and strong growth potential.\n",
      "\n",
      "To further analyze if Cloudflare is a potential good investment, we can look into key financial metrics, market trends, and the company's competitive position. Would you like me to provide more detailed analysis on Cloudflare's stock as a potential investment?\u001b[0m\n",
      "\n",
      "\u001b[1m> Finished chain.\u001b[0m\n"
     ]
    },
    {
     "name": "stderr",
     "output_type": "stream",
     "text": [
      "/Users/nks/Documents/fullstack-gpt/env/lib/python3.11/site-packages/pydantic/main.py:1070: PydanticDeprecatedSince20: The `dict` method is deprecated; use `model_dump` instead. Deprecated in Pydantic V2.0 to be removed in V3.0. See Pydantic V2 Migration Guide at https://errors.pydantic.dev/2.7/migration/\n",
      "  warnings.warn('The `dict` method is deprecated; use `model_dump` instead.', category=PydanticDeprecatedSince20)\n"
     ]
    },
    {
     "data": {
      "text/plain": [
       "{'input': \"Give me information on Cloudflare's stock and help me analyze if it's a potential good investment. Also tell me what symbol does the stock have.\",\n",
       " 'output': \"The stock market symbol for Cloudflare is NET. Cloudflare's stock price was $183.87 in the latest close session, showing a 2.55% increase. Analysts have mentioned that Cloudflare's revenue growth is expected to dip below 30% in Q3 but should reaccelerate in 2025. The stock may appear expensive, but some analysts consider it a Buy due to improving execution and strong growth potential.\\n\\nTo further analyze if Cloudflare is a potential good investment, we can look into key financial metrics, market trends, and the company's competitive position. Would you like me to provide more detailed analysis on Cloudflare's stock as a potential investment?\"}"
      ]
     },
     "execution_count": 4,
     "metadata": {},
     "output_type": "execute_result"
    }
   ],
   "source": [
    "from typing import Any, Type\n",
    "from langchain.chat_models import ChatOpenAI\n",
    "from langchain.tools import BaseTool\n",
    "from pydantic import BaseModel, Field\n",
    "from langchain.agents import initialize_agent, AgentType\n",
    "from langchain.utilities import DuckDuckGoSearchAPIWrapper\n",
    "\n",
    "llm = ChatOpenAI(temperature=0.1, model=\"gpt-4.1-nano\")\n",
    "\n",
    "\n",
    "class StockMarketSymbolSearchToolArgsSchema(BaseModel):\n",
    "    query: str = Field(\n",
    "        description=\"The query you will search for.Example query: Stock Market Symbol for Apple Company\"\n",
    "    )\n",
    "\n",
    "\n",
    "class StockMarketSymbolSearchTool(BaseTool):\n",
    "    name = \"StockMarketSymbolSearchTool\"\n",
    "    description = \"\"\"\n",
    "    Use this tool to find the stock market symbol for a company.\n",
    "    It takes a query as an argument.\n",
    "    \n",
    "    \"\"\"\n",
    "    args_schema: Type[\n",
    "        StockMarketSymbolSearchToolArgsSchema\n",
    "    ] = StockMarketSymbolSearchToolArgsSchema\n",
    "\n",
    "    def _run(self, query):\n",
    "        ddg = DuckDuckGoSearchAPIWrapper()\n",
    "        return ddg.run(query)\n",
    "\n",
    "\n",
    "agent = initialize_agent(\n",
    "    llm=llm,\n",
    "    verbose=True,\n",
    "    agent=AgentType.OPENAI_FUNCTIONS,\n",
    "    handle_parsing_errors=True,\n",
    "    tools=[\n",
    "        StockMarketSymbolSearchTool(),\n",
    "    ],\n",
    ")\n",
    "\n",
    "prompt = \"Give me information on Cloudflare's stock and help me analyze if it's a potential good investment. Also tell me what symbol does the stock have.\"\n",
    "\n",
    "agent.invoke(prompt)"
   ]
  }
 ],
 "metadata": {
  "kernelspec": {
   "display_name": "env",
   "language": "python",
   "name": "python3"
  },
  "language_info": {
   "codemirror_mode": {
    "name": "ipython",
    "version": 3
   },
   "file_extension": ".py",
   "mimetype": "text/x-python",
   "name": "python",
   "nbconvert_exporter": "python",
   "pygments_lexer": "ipython3",
   "version": "3.11.3"
  }
 },
 "nbformat": 4,
 "nbformat_minor": 5
}
