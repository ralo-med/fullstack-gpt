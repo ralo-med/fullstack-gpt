{
 "cells": [
  {
   "cell_type": "code",
   "execution_count": null,
   "id": "c772a037",
   "metadata": {},
   "outputs": [
    {
     "name": "stdout",
     "output_type": "stream",
     "text": [
      "\n",
      "\n",
      "\u001b[1m> Entering new AgentExecutor chain...\u001b[0m\n",
      "\u001b[32;1m\u001b[1;3mThought: I need to add all these amounts together. I'll start by adding two at a time to keep it simple.\n",
      "\n",
      "First, add $124.25 and $246.25.\n",
      "Action: plus\n",
      "Action Input: 124.25,246.25\u001b[0m\n",
      "Observation: \u001b[36;1m\u001b[1;3m370.5\u001b[0m\n",
      "Thought:\u001b[32;1m\u001b[1;3mThought: Now, I will add $32.25 to the previous total of $370.50.\n",
      "Action: plus\n",
      "Action Input: 370.5,32.25\u001b[0m\n",
      "Observation: \u001b[36;1m\u001b[1;3m402.75\u001b[0m\n",
      "Thought:\u001b[32;1m\u001b[1;3mThought: Now, I will add $235.25 to the previous total of $402.75.\n",
      "Action: plus\n",
      "Action Input: 402.75,235.25\u001b[0m\n",
      "Observation: \u001b[36;1m\u001b[1;3m638.0\u001b[0m\n",
      "Thought:\u001b[32;1m\u001b[1;3mFinal Answer: The total cost is $638.00.\u001b[0m\n",
      "\n",
      "\u001b[1m> Finished chain.\u001b[0m\n"
     ]
    },
    {
     "data": {
      "text/plain": [
       "{'input': 'Cost of $124.25+$246.25+$32.25+$235.25',\n",
       " 'output': 'The total cost is $638.00.'}"
      ]
     },
     "execution_count": 4,
     "metadata": {},
     "output_type": "execute_result"
    }
   ],
   "source": [
    "from langchain.chat_models import ChatOpenAI\n",
    "from langchain.agents import initialize_agent, AgentType\n",
    "from langchain.agents import load_tools\n",
    "from langchain.tools import StructuredTool,Tool,BaseTool\n",
    "from pydantic import BaseModel,Field\n",
    "from typing import Type\n",
    "\n",
    "llm = ChatOpenAI(model=\"gpt-4.1-nano\", temperature=0.1)\n",
    "\n",
    "\n",
    "class PlusSchema(BaseModel):\n",
    "    a: float = Field(description=\"The first number to add\")\n",
    "    b: float = Field(description=\"The second number to add\")    \n",
    "\n",
    "class PlusTool(BaseTool):\n",
    "    name: str = \"plus\"\n",
    "    description: str = \"Add two numbers. The first and second arguments should be numbers, Only receive two arguments.\"\n",
    "    args_schema: Type[PlusSchema] = PlusSchema\n",
    "    def _run(self,a,b):\n",
    "        return a+b\n",
    "    \n",
    "    \n",
    "\n",
    "agent = initialize_agent(\n",
    "    llm=llm,\n",
    "    agent=AgentType.OPENAI_FUNCTIONS,\n",
    "    handle_parsing_errors=True,\n",
    "    tools=[PlusTool()],\n",
    "    verbose=True,\n",
    ")\n",
    "\n",
    "prompt = \"Cost of $124.25+$246.25+$32.25+$235.25\"\n",
    "\n",
    "agent.invoke(prompt)\n",
    "\n",
    "\n",
    "\n"
   ]
  }
 ],
 "metadata": {
  "kernelspec": {
   "display_name": "env",
   "language": "python",
   "name": "python3"
  },
  "language_info": {
   "codemirror_mode": {
    "name": "ipython",
    "version": 3
   },
   "file_extension": ".py",
   "mimetype": "text/x-python",
   "name": "python",
   "nbconvert_exporter": "python",
   "pygments_lexer": "ipython3",
   "version": "3.11.3"
  }
 },
 "nbformat": 4,
 "nbformat_minor": 5
}
