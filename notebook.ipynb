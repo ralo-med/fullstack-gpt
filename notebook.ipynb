{
 "cells": [
  {
   "cell_type": "code",
   "execution_count": 2,
   "metadata": {},
   "outputs": [],
   "source": [
    "from langchain.llms import OpenAI\n",
    "from langchain.chat_models import ChatOpenAI\n",
    "from langchain.schema import HumanMessage, AIMessage, SystemMessage\n",
    "from langchain.prompts import PromptTemplate,ChatPromptTemplate\n",
    "\n",
    "\n",
    "chat = ChatOpenAI(model=\"gpt-4.1-nano\", temperature=0.1, streaming=True)\n",
    "\n",
    "\n",
    "\n"
   ]
  },
  {
   "cell_type": "code",
   "execution_count": 4,
   "metadata": {},
   "outputs": [],
   "source": [
    "chef_template = ChatPromptTemplate.from_messages([\n",
    "    (\"system\",\"You are a world class chef. You are given a list of ingredients easy to find in a kitchen and you need to create a recipe for a dish easy to make.\"),\n",
    "    (\"human\",\"I want to cook {cousine}food.\"),\n",
    "])\n",
    "\n",
    "chef_chain = chef_template | chat\n",
    "\n"
   ]
  },
  {
   "cell_type": "code",
   "execution_count": 7,
   "metadata": {},
   "outputs": [
    {
     "data": {
      "text/plain": [
       "AIMessage(content='This is a wonderful vegetarian dish! Since all the ingredients are plant-based, you can prepare this Chana Masala as is. Just ensure that the canned chickpeas are vegetarian (most are), and use vegetable oil. If you want to make it more hearty, you can add vegetables like spinach or potatoes, but the recipe as provided is already fully vegetarian and delicious. Enjoy your cooking!')"
      ]
     },
     "execution_count": 7,
     "metadata": {},
     "output_type": "execute_result"
    }
   ],
   "source": [
    "veg_chef_prompt = ChatPromptTemplate.from_messages([\n",
    "    (\"system\",\"You are a vegetarian chef. specialized in traditional recepis vegeterian. you find alternatives for non-vegetarian ingredients. you don't radically modify the recipe. if there is alternative for a food just say you don't know how to replace it\"),\n",
    "    (\"human\",\"{recipe}\"),\n",
    "])\n",
    "\n",
    "veg_chef_chain = veg_chef_prompt | chat\n",
    "\n",
    "\n",
    "final_chain = {\"recipe\":chef_chain} | veg_chef_chain\n",
    "\n",
    "\n",
    "final_chain.invoke({\"cousine\":\"Indian\"})\n",
    "\n",
    "\n",
    "\n",
    "\n",
    "\n",
    "\n"
   ]
  },
  {
   "cell_type": "code",
   "execution_count": 37,
   "metadata": {},
   "outputs": [
    {
     "data": {
      "text/plain": [
       "['red',\n",
       " 'blue',\n",
       " 'yellow',\n",
       " 'green',\n",
       " 'orange',\n",
       " 'purple',\n",
       " 'black',\n",
       " 'white',\n",
       " 'gray',\n",
       " 'pink']"
      ]
     },
     "execution_count": 37,
     "metadata": {},
     "output_type": "execute_result"
    }
   ],
   "source": [
    "\n",
    "from langchain.schema import BaseOutputParser\n",
    "\n",
    "class CommaOutputParser(BaseOutputParser):\n",
    "    def parse(self, text: str) -> str:\n",
    "        items = text.strip().split(\",\")\n",
    "        return list(map(str.strip, items))\n",
    "\n",
    "\n",
    "comma_parser = CommaOutputParser()\n",
    "comma_parser.parse(\"Hello,how ,are,you,!\")\n",
    "template = ChatPromptTemplate.from_messages([\n",
    "   (\"system\", \"You are a list generating machine. Everything you area aksed will be answerd with a comma separated list of max {max_items} in lowercase. Do not reply with antyhing else\"),\n",
    "    \n",
    "    (\"human\", \"{question}\"),\n",
    "])\n",
    "\n",
    "prompt = template.format_messages(max_items=10, question=\"What are the colors?\")\n",
    "response = chat.predict_messages(prompt)\n",
    "\n",
    "comma_parser = CommaOutputParser()\n",
    "comma_parser.parse(response.content)"
   ]
  },
  {
   "cell_type": "code",
   "execution_count": 38,
   "metadata": {},
   "outputs": [
    {
     "data": {
      "text/plain": [
       "['bulbasaur', 'ivysaur', 'venusaur', 'charmander', 'charmeleon']"
      ]
     },
     "execution_count": 38,
     "metadata": {},
     "output_type": "execute_result"
    }
   ],
   "source": [
    "chain = template | chat | comma_parser\n",
    "\n",
    "chain.invoke({\"max_items\": 5, \"question\": \"What are the pokemons?\"})"
   ]
  },
  {
   "cell_type": "code",
   "execution_count": null,
   "metadata": {},
   "outputs": [],
   "source": []
  },
  {
   "cell_type": "code",
   "execution_count": null,
   "metadata": {},
   "outputs": [
    {
     "data": {
      "text/plain": [
       "AIMessage(content='こんにちは、私の名前はSocraです。メキシコとタイの距離はおよそ13,000キロメートルです。')"
      ]
     },
     "execution_count": 28,
     "metadata": {},
     "output_type": "execute_result"
    }
   ],
   "source": [
    "\n",
    "\n",
    "chat = ChatOpenAI(model=\"gpt-4.1-nano\", temperature=0.1)\n",
    "template = PromptTemplate.from_template(\"What is the distance between {country1} and {country2}?\")\n",
    "prompt = template.format(country1=\"Mexico\", country2=\"Thailand\")\n",
    "\n",
    "\n",
    "template = ChatPromptTemplate.from_messages([\n",
    "   (\"system\", \"You are a geography expert. And you only reply in {language}.\"),\n",
    "    (\"ai\", \"안녕 내 이름은 {name}이야!\"),\n",
    "    (\"human\", \"Hello, What is your name? And what is the distance between {country1} and {country2}? \"),\n",
    "])\n",
    "\n",
    "prompt = template.format_messages(language=\"japanese\", name=\"Socrates\", country1=\"Mexico\", country2=\"Thailand\")\n",
    "\n",
    "chat.predict_messages(prompt)"
   ]
  }
 ],
 "metadata": {
  "kernelspec": {
   "display_name": "env",
   "language": "python",
   "name": "python3"
  },
  "language_info": {
   "codemirror_mode": {
    "name": "ipython",
    "version": 3
   },
   "file_extension": ".py",
   "mimetype": "text/x-python",
   "name": "python",
   "nbconvert_exporter": "python",
   "pygments_lexer": "ipython3",
   "version": "3.11.3"
  }
 },
 "nbformat": 4,
 "nbformat_minor": 2
}
