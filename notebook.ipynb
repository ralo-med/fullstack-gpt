{
 "cells": [
  {
   "cell_type": "code",
   "execution_count": 39,
   "metadata": {},
   "outputs": [],
   "source": [
    "from langchain.llms import OpenAI\n",
    "from langchain.chat_models import ChatOpenAI\n",
    "from langchain.schema import HumanMessage, AIMessage, SystemMessage\n",
    "from langchain.prompts import PromptTemplate,ChatPromptTemplate\n",
    "from langchain.callbacks import StdOutCallbackHandler,StreamingStdOutCallbackHandler\n",
    "\n",
    "chat = ChatOpenAI(model=\"gpt-4.1-nano\", temperature=0.1, streaming=True, callbacks=[StreamingStdOutCallbackHandler()])\n",
    "\n",
    "\n",
    "chef_template = ChatPromptTemplate.from_messages([\n",
    "    (\"system\",\"You are a world class chef. You are given a list of ingredients easy to find in a kitchen and you need to create a recipe for a dish easy to make. and you love meat and.\"),\n",
    "    (\"human\",\"I want to cook {cousine}food.\"),\n",
    "])\n",
    "\n",
    "chef_chain = chef_template | chat\n",
    "\n",
    "\n"
   ]
  },
  {
   "cell_type": "code",
   "execution_count": 40,
   "metadata": {},
   "outputs": [],
   "source": [
    "chef_template = ChatPromptTemplate.from_messages([\n",
    "    (\"system\",\"You are a world class chef. You are given a list of ingredients easy to find in a kitchen and you need to create a recipe for a dish easy to make.\"),\n",
    "    (\"human\",\"I want to cook {cousine}food.\"),\n",
    "])\n",
    "\n",
    "chef_chain = chef_template | chat\n",
    "\n"
   ]
  },
  {
   "cell_type": "markdown",
   "metadata": {},
   "source": []
  },
  {
   "cell_type": "code",
   "execution_count": 41,
   "metadata": {},
   "outputs": [
    {
     "name": "stdout",
     "output_type": "stream",
     "text": [
      "Great choice! Here's a simple and delicious Japanese-inspired dish you can make with common kitchen ingredients: **Teriyaki Chicken Bowl**. It's easy to prepare and full of flavor.\n",
      "\n",
      "### Ingredients:\n",
      "- 2 chicken breasts or thighs\n",
      "- 1/4 cup soy sauce\n",
      "- 2 tablespoons honey or sugar\n",
      "- 1 tablespoon rice vinegar (or white vinegar if unavailable)\n",
      "- 1 tablespoon vegetable oil\n",
      "- 2 cloves garlic, minced (or garlic powder)\n",
      "- 1 teaspoon grated ginger (or ground ginger)\n",
      "- Cooked rice (white or brown)\n",
      "- Optional toppings: sliced green onions, sesame seeds, steamed vegetables (like broccoli or carrots)\n",
      "\n",
      "### Instructions:\n",
      "\n",
      "1. **Prepare the Teriyaki Sauce:**\n",
      "   - In a small bowl, mix soy sauce, honey (or sugar), rice vinegar, minced garlic, and grated ginger. Set aside.\n",
      "\n",
      "2. **Cook the Chicken:**\n",
      "   - Heat vegetable oil in a skillet over medium heat.\n",
      "   - Season chicken with a little salt and pepper if desired.\n",
      "   - Add chicken to the skillet and cook until browned and cooked through (about 6-8 minutes per side).\n",
      "   - Once cooked, remove chicken from skillet and let rest for a few minutes. Slice into strips.\n",
      "\n",
      "3. **Make the Sauce and Glaze:**\n",
      "   - In the same skillet, pour in the teriyaki sauce mixture.\n",
      "   - Bring to a simmer and cook until slightly thickened (about 2-3 minutes).\n",
      "\n",
      "4. **Combine and Serve:**\n",
      "   - Return chicken to the skillet and toss to coat with the sauce.\n",
      "   - Serve the chicken over a bed of cooked rice.\n",
      "   - Garnish with sliced green onions and sesame seeds if available.\n",
      "   - Add steamed vegetables on the side for a complete meal.\n",
      "\n",
      "Enjoy your homemade Japanese-style Teriyaki Chicken Bowl! It’s quick, flavorful, and perfect for a cozy meal.Certainly! To make this dish vegetarian, you can replace the chicken with a plant-based protein. Some good options include:\n",
      "\n",
      "- Tofu (firm or extra firm, pressed and sliced)\n",
      "- Tempeh (sliced into strips)\n",
      "- Seitan (if available)\n",
      "- Mushrooms (like portobello or shiitake, sliced)\n",
      "\n",
      "Here's how you can adapt the recipe:\n",
      "\n",
      "### Vegetarian Teriyaki Bowl\n",
      "\n",
      "**Replace the chicken with:**  \n",
      "- 1 block of firm tofu, pressed and sliced into strips, or  \n",
      "- 1 cup of sliced tempeh or mushrooms\n",
      "\n",
      "**Cooking instructions:**  \n",
      "- For tofu or tempeh: Sauté in a little oil until golden on all sides before adding the sauce.  \n",
      "- For mushrooms: Sauté until tender and browned.\n",
      "\n",
      "The rest of the recipe remains the same. The soy-based teriyaki sauce pairs beautifully with these alternatives, creating a delicious vegetarian dish without radically modifying the original recipe. Enjoy!"
     ]
    },
    {
     "data": {
      "text/plain": [
       "AIMessageChunk(content=\"Certainly! To make this dish vegetarian, you can replace the chicken with a plant-based protein. Some good options include:\\n\\n- Tofu (firm or extra firm, pressed and sliced)\\n- Tempeh (sliced into strips)\\n- Seitan (if available)\\n- Mushrooms (like portobello or shiitake, sliced)\\n\\nHere's how you can adapt the recipe:\\n\\n### Vegetarian Teriyaki Bowl\\n\\n**Replace the chicken with:**  \\n- 1 block of firm tofu, pressed and sliced into strips, or  \\n- 1 cup of sliced tempeh or mushrooms\\n\\n**Cooking instructions:**  \\n- For tofu or tempeh: Sauté in a little oil until golden on all sides before adding the sauce.  \\n- For mushrooms: Sauté until tender and browned.\\n\\nThe rest of the recipe remains the same. The soy-based teriyaki sauce pairs beautifully with these alternatives, creating a delicious vegetarian dish without radically modifying the original recipe. Enjoy!\")"
      ]
     },
     "execution_count": 41,
     "metadata": {},
     "output_type": "execute_result"
    }
   ],
   "source": [
    "veg_chef_prompt = ChatPromptTemplate.from_messages([\n",
    "    (\"system\",\"You are a vegetarian chef. specialized in traditional recepis vegeterian. you find alternatives for non-vegetarian ingredients. you don't radically modify the recipe. if there is alternative for a food just say you don't know how to replace it\"),\n",
    "    (\"human\",\"{recipe}\"),\n",
    "])\n",
    "\n",
    "veg_chef_chain = veg_chef_prompt | chat\n",
    "\n",
    "\n",
    "final_chain = {\"recipe\":chef_chain} | veg_chef_chain\n",
    "\n",
    "\n",
    "final_chain.invoke({\"cousine\":\"Japanese\"})\n",
    "\n",
    "\n",
    "\n",
    "\n",
    "\n",
    "\n"
   ]
  },
  {
   "cell_type": "code",
   "execution_count": 36,
   "metadata": {},
   "outputs": [
    {
     "name": "stdout",
     "output_type": "stream",
     "text": [
      "red,blue,green,yellow,black,white,orange,purple,pink,brown"
     ]
    },
    {
     "data": {
      "text/plain": [
       "['red',\n",
       " 'blue',\n",
       " 'green',\n",
       " 'yellow',\n",
       " 'black',\n",
       " 'white',\n",
       " 'orange',\n",
       " 'purple',\n",
       " 'pink',\n",
       " 'brown']"
      ]
     },
     "execution_count": 36,
     "metadata": {},
     "output_type": "execute_result"
    }
   ],
   "source": [
    "\n",
    "from langchain.schema import BaseOutputParser\n",
    "\n",
    "class CommaOutputParser(BaseOutputParser):\n",
    "    def parse(self, text: str) -> str:\n",
    "        items = text.strip().split(\",\")\n",
    "        return list(map(str.strip, items))\n",
    "\n",
    "\n",
    "comma_parser = CommaOutputParser()\n",
    "comma_parser.parse(\"Hello,how ,are,you,!\")\n",
    "template = ChatPromptTemplate.from_messages([\n",
    "   (\"system\", \"You are a list generating machine. Everything you area aksed will be answerd with a comma separated list of max {max_items} in lowercase. Do not reply with antyhing else\"),\n",
    "    \n",
    "    (\"human\", \"{question}\"),\n",
    "])\n",
    "\n",
    "prompt = template.format_messages(max_items=10, question=\"What are the colors?\")\n",
    "response = chat.predict_messages(prompt)\n",
    "\n",
    "comma_parser = CommaOutputParser()\n",
    "comma_parser.parse(response.content)"
   ]
  },
  {
   "cell_type": "code",
   "execution_count": 37,
   "metadata": {},
   "outputs": [
    {
     "name": "stdout",
     "output_type": "stream",
     "text": [
      "bulbasaur, ivysaur, venusaur, charmander, charmeleon"
     ]
    },
    {
     "data": {
      "text/plain": [
       "['bulbasaur', 'ivysaur', 'venusaur', 'charmander', 'charmeleon']"
      ]
     },
     "execution_count": 37,
     "metadata": {},
     "output_type": "execute_result"
    }
   ],
   "source": [
    "chain = template | chat | comma_parser\n",
    "\n",
    "chain.invoke({\"max_items\": 5, \"question\": \"What are the pokemons?\"})"
   ]
  },
  {
   "cell_type": "code",
   "execution_count": null,
   "metadata": {},
   "outputs": [],
   "source": []
  },
  {
   "cell_type": "code",
   "execution_count": 38,
   "metadata": {},
   "outputs": [
    {
     "data": {
      "text/plain": [
       "AIMessage(content='こんにちは、私は地理の専門家です。私の名前はSocratesです。メキシコとタイの距離は直線距離で約13,000キロメートルです。')"
      ]
     },
     "execution_count": 38,
     "metadata": {},
     "output_type": "execute_result"
    }
   ],
   "source": [
    "\n",
    "\n",
    "chat = ChatOpenAI(model=\"gpt-4.1-nano\", temperature=0.1)\n",
    "template = PromptTemplate.from_template(\"What is the distance between {country1} and {country2}?\")\n",
    "prompt = template.format(country1=\"Mexico\", country2=\"Thailand\")\n",
    "\n",
    "\n",
    "template = ChatPromptTemplate.from_messages([\n",
    "   (\"system\", \"You are a geography expert. And you only reply in {language}.\"),\n",
    "    (\"ai\", \"안녕 내 이름은 {name}이야!\"),\n",
    "    (\"human\", \"Hello, What is your name? And what is the distance between {country1} and {country2}? \"),\n",
    "])\n",
    "\n",
    "prompt = template.format_messages(language=\"japanese\", name=\"Socrates\", country1=\"Mexico\", country2=\"Thailand\")\n",
    "\n",
    "chat.predict_messages(prompt)"
   ]
  }
 ],
 "metadata": {
  "kernelspec": {
   "display_name": "env",
   "language": "python",
   "name": "python3"
  },
  "language_info": {
   "codemirror_mode": {
    "name": "ipython",
    "version": 3
   },
   "file_extension": ".py",
   "mimetype": "text/x-python",
   "name": "python",
   "nbconvert_exporter": "python",
   "pygments_lexer": "ipython3",
   "version": "3.11.3"
  }
 },
 "nbformat": 4,
 "nbformat_minor": 2
}
